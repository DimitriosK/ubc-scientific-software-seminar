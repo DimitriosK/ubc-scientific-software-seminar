{
 "cells": [
  {
   "cell_type": "markdown",
   "metadata": {},
   "source": [
    "# UBC Scientific Software Seminar\n",
    "\n",
    "## July 20, 2016\n",
    "\n",
    "Today's Agenda:\n",
    "\n",
    "1. JupyterHub\n",
    "2. Jupyter Notebooks\n",
    "3. Git/GitHub"
   ]
  },
  {
   "cell_type": "markdown",
   "metadata": {},
   "source": [
    "## 1. JupyterHub\n",
    "\n",
    "[JupyterHub](https://pims.jupyter.ca) is a web service provided by the [Pacific Institute for the Mathematical Sciences (PIMS)](http://www.pims.math.ca/) and hosts [Jupyter](http://jupyter.org/) notebooks for UBC students, fellows and faculty (via CWL login). When you login to JupyterHub, you see your home directory and various tabs to create files and folders, create notebooks, check which processes are running, etc. Essentially, your JupyterHub account is a Linux machine which is running remotely on a server provided by PIMS and you interact with your remote machine via a browser on your local device.\n",
    "\n",
    "\n",
    "## 2. Jupyter Notebooks\n",
    "\n",
    "A [Jupyter notebook](https://jupyter.org) is a web application which allows you to write markdown and execute code all in the browser. To get started with a new Jupyter notebook with a Python 3 kernel, click the `New` tab in the top right corner of the JupyterHub main page and then click `Python 3`. This will open a notebook in a new tab in your browser.\n",
    "\n",
    "Cells in a notebook contain markdown code or Python code depending of the setting in the toolbar. [Markdown](https://en.wikipedia.org/wiki/Markdown) is a markup language simply designed to easily convert to HTML. See this [guide](https://github.com/adam-p/markdown-here/wiki/Markdown-Cheatsheet) for a quick intro to markdown. Here are some examples:"
   ]
  },
  {
   "cell_type": "markdown",
   "metadata": {},
   "source": [
    "---\n",
    "\n",
    "**Headings:** Create headings with hashes `#`, `##`, `###`, etc. For example, in a new markdown cell, type the following:\n",
    "\n",
    "```\n",
    "### A Heading for a New Section\n",
    "```\n",
    "\n",
    "and hit `Shift + Enter` to produce:\n",
    "\n",
    "### A Heading for a New Section"
   ]
  },
  {
   "cell_type": "markdown",
   "metadata": {},
   "source": [
    "---\n",
    "\n",
    "**Links:** Create a link with the syntax `[text](url)`. For example, in a new markdown cell, type the following:\n",
    "\n",
    "```\n",
    "[A Link to GitHub](https://github.com/)\n",
    "```\n",
    "\n",
    "and hit `Shift + Enter` to produce:\n",
    "\n",
    "[A Link to GitHub](https://github.com/)"
   ]
  },
  {
   "cell_type": "markdown",
   "metadata": {},
   "source": [
    "---\n",
    "\n",
    "**LaTeX:** LaTeX code in a markdown cell will be rendered as LaTeX. For example, in a markdown cell, type:\n",
    "\n",
    "```\n",
    "$$\\int_a^b f(x) \\ dx = F(b) - F(a)$$\n",
    "```\n",
    "\n",
    "and hit `Shift + Enter` to produce\n",
    "\n",
    "$$\\int_a^b f(x) \\ dx = F(b) - F(a)$$"
   ]
  },
  {
   "cell_type": "markdown",
   "metadata": {},
   "source": [
    "---\n",
    "\n",
    "**Lists:** Use asterisks to create unordered lists. For example, in a new markdown cell, type the following:\n",
    "\n",
    "```\n",
    "* Python\n",
    "* C++\n",
    "* JavaScript\n",
    "```\n",
    "\n",
    "and hit `Shift + Enter` to produce:\n",
    "\n",
    "* Python\n",
    "* C++\n",
    "* JavaScript"
   ]
  },
  {
   "cell_type": "markdown",
   "metadata": {},
   "source": [
    "---\n",
    "\n",
    "**Images:** Include an image with the syntax `![text](url)`. For example, in a new markdown cell, type the following:\n",
    "\n",
    "```\n",
    "![Python Logo](https://www.python.org/static/community_logos/python-logo-master-v3-TM.png)\n",
    "```\n",
    "\n",
    "and hit `Shift + Enter` to produce:\n",
    "\n",
    "![Python Logo](https://www.python.org/static/community_logos/python-logo-master-v3-TM.png)"
   ]
  },
  {
   "cell_type": "markdown",
   "metadata": {},
   "source": [
    "---\n",
    "**Python Code:** In a new cell, use the toolbar to set the selected cell to `Code` and type the following:\n",
    "\n",
    "```python\n",
    "for n in range(0,4):\n",
    "    print(n,\"squared is equal to\",n**2)\n",
    "```\n",
    "\n",
    "and hit `Shift + Enter` to produce the output:\n",
    "\n",
    "```\n",
    "0 squared is equal to 0\n",
    "1 squared is equal to 1\n",
    "2 squared is equal to 4\n",
    "3 squared is equal to 9\n",
    "```"
   ]
  },
  {
   "cell_type": "markdown",
   "metadata": {},
   "source": [
    "### EXERCISE 2.1: Create a Jupyter notebook about a project you are working on\n",
    "\n",
    "Create a new Jupyter notebook with a Python 3 kernel and write a short description of a project you are working or interested in. Use markdown cells including text, link, images, headings, lists and Latex, and use code cells to execute Python code. Take your time because we're going to be pushing these notebooks to GitHub in a later exercise."
   ]
  },
  {
   "cell_type": "markdown",
   "metadata": {},
   "source": [
    "## 3. Git/GitHub\n",
    "\n",
    "[GitHub](https://github.com) is a website (which is different from [JupyterHub](https://pims.jupyter.ca/)) which hosts Git repositories. [Git](https://git-scm.com/) is an open source, version control software used to manage and share software projects. We will be using Git and GitHub repeatedly in this seminar and so we won't explore all the details right now. Rather, we'll learn the basics and then repeat and build on these topics and commands over the next few weeks.\n",
    "\n",
    "A Git repository is a directory (aka folder) which Git is tracking and recording changes – it is very powerful! Using Git and GitHub is a steep learning curve and the following are some helpful resources:\n",
    "\n",
    "* [GitHub Help](https://help.github.com/)\n",
    "* [Git documentation](https://git-scm.com/)\n",
    "* [GitHub Training on YouTube](https://www.youtube.com/watch?v=8oRjP8yj2Wo&list=PLg7s6cbtAD165JTRsXh8ofwRw0PqUnkVH)"
   ]
  },
  {
   "cell_type": "markdown",
   "metadata": {},
   "source": [
    "### EXERCISE 3.1: Create a repository on GitHub\n",
    "\n",
    "Create a new repository on GitHub for the exercises to be completed during the seminar:\n",
    "\n",
    "* Open a new tab in your browser and sign in to your [GitHub](https://github.com/) account\n",
    "* Click `+` in the top right corner of your browser window and click `New repository`\n",
    "* You are navigated to a new page:\n",
    "    * Enter the repository name `ubcs3-exercises`\n",
    "    * Enter a description of the repository (such as `\"A collection of exercises completed during the UBC Scientific Software Seminar\"`)\n",
    "    * Choose to make the repository `Public`\n",
    "    * Choose to initialize the repository with a `README.md` file\n",
    "    * Click `Create repository`"
   ]
  },
  {
   "cell_type": "markdown",
   "metadata": {},
   "source": [
    "### EXERCISE 3.2: Clone a GitHub repository to your JupyterHub account\n",
    "\n",
    "The repository you created in the previous exercise exists only on GitHub. We want to clone that repo to our JupyterHub account so that we can work on the project on JupyterHub, for example, by adding Jupyter notebooks:\n",
    "\n",
    "* Open a new tab in your browser and sign in to your [JupyterHub](https://pims.jupyter.ca) account\n",
    "* Click `New` in the top right of the main page and select `Terminal`\n",
    "* The terminal is where we use [Bash](https://www.gnu.org/software/bash/) commands to communicate directly with the Linux machine underlying our JupyterHub account. For example, to orient ourselves in the terminal, we can do the follwoing:\n",
    "    * Enter the Bash command `pwd` to print the name of the directory you are currently working in (it should be your home directory `/home/<CWL-username>` where `<CWL-username>` is your own CWL username)\n",
    "    * Enter the Bash command `ls` to list the contents of the current directory\n",
    "* In a new browser tab:\n",
    "    * Navigate to the repository on GitHub we created in the previous exercise\n",
    "    * Click the green button `Clone or download` and then click the clipboard icon to copy the repo URL to your clipboard\n",
    "* Go back to the browser tab with the terminal on JupyterHub:\n",
    "    * Enter the command `git clone <GitHub Repo URL>` where `<GitHub Repo URL>` is the URL of your GitHub repo which you copied to your clipboard in the last step. For example, according to the names I chose above, I would enter:\n",
    "        * `git clone https://github.com/patrickwalls/ubcs3-exercises.git`"
   ]
  },
  {
   "cell_type": "markdown",
   "metadata": {},
   "source": [
    "### EXERCISE 3.3: Make a change to the repo on JupyterHub and push the change to GitHub\n",
    "\n",
    "On your main page on JupyterHub, you should have a folder called `ubcs3-exercises` or whatever name you chose in the previous exercises. This is the clone we made in the previous exercise.\n",
    "\n",
    "* On your main page on JupyterHub (in your home directory), click on the folder `ubcs3-exercises`\n",
    "* Click on the file `README.md`\n",
    "* The text file will open in the JupyterHub text editor in a new tab in your bowser\n",
    "* Make a change to the README.md file:\n",
    "    * Add a line which starts with `Exercise 1.` and then describes the Jupyter notebook you wrote in a previous exercise about a project you are interested in\n",
    "    * Click `File` and then `Save` and then close the broswer tab\n",
    "* Let's look at the change we've made:\n",
    "    * Open a new terminal from the JupyterHub main page\n",
    "    * Navigate to the repo `ubcs3-exercises` by entering the command:\n",
    "        * `cd ubcs3-exercises`\n",
    "    * To see the state of the Git repo, enter the command:\n",
    "        * `git status`\n",
    "    * The output tells us that we have an untracked modification to the file `README.md`\n",
    "* Add the change to the staging area by entering the command:\n",
    "    * `git add README.md`\n",
    "* Commit the change with a descriptive message by entering the command:\n",
    "    * `git commit -m \"Added a description of Exercise 1 to README.md\"`"
   ]
  },
  {
   "cell_type": "markdown",
   "metadata": {},
   "source": [
    "### EXERCISE 3.4: Make a change to the repo on GitHub and pull the change to JupyterHub"
   ]
  },
  {
   "cell_type": "code",
   "execution_count": null,
   "metadata": {
    "collapsed": true
   },
   "outputs": [],
   "source": []
  }
 ],
 "metadata": {
  "kernelspec": {
   "display_name": "Python 3",
   "language": "python",
   "name": "python3"
  },
  "language_info": {
   "codemirror_mode": {
    "name": "ipython",
    "version": 3
   },
   "file_extension": ".py",
   "mimetype": "text/x-python",
   "name": "python",
   "nbconvert_exporter": "python",
   "pygments_lexer": "ipython3",
   "version": "3.4.4"
  }
 },
 "nbformat": 4,
 "nbformat_minor": 0
}
