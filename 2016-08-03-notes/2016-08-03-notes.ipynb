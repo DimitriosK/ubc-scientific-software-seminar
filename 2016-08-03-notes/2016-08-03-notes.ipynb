{
 "cells": [
  {
   "cell_type": "markdown",
   "metadata": {},
   "source": [
    "# UBC Scientific Software Seminar\n",
    "\n",
    "## August 3, 2016\n",
    "\n",
    "Today's Agenda:\n",
    "\n",
    "1. Bash\n",
    "    * Review: Bash commands\n",
    "    * More Bash commands\n",
    "    * Exercise: Scraping the web\n",
    "2. Python: logic, loops and functions\n",
    "3. A quick intro to NumPy and matplotlib "
   ]
  },
  {
   "cell_type": "markdown",
   "metadata": {},
   "source": [
    "### 1. Bash"
   ]
  },
  {
   "cell_type": "markdown",
   "metadata": {},
   "source": [
    "We can execute Bash commands in at least 3 ways:\n",
    "\n",
    "1. Enter Bash commands in the terminal\n",
    "2. Enter Bash commands (beginning with a bang character `!`) in a code cell in a Jupyter notebook\n",
    "3. Write several lines of Bash commands in a text file with extension `.sh` and call it from the terminal:\n",
    "\n",
    "```bash\n",
    "bash my_script.sh\n",
    "```"
   ]
  },
  {
   "cell_type": "markdown",
   "metadata": {},
   "source": [
    "### 1.1 Review: Bash commands\n",
    "\n",
    "Recall, we have already used several simple Bash commands:\n",
    "\n",
    "#### Interacting with the file system\n",
    "* `pwd`\n",
    "* `ls`\n",
    "* `cd`"
   ]
  },
  {
   "cell_type": "markdown",
   "metadata": {},
   "source": [
    "#### Creating/removing files and directories\n",
    "* `mkdir`\n",
    "* `rm`\n",
    "* `mv`"
   ]
  },
  {
   "cell_type": "markdown",
   "metadata": {},
   "source": [
    "#### Viewing contents of a file\n",
    "\n",
    "* `less`\n",
    "* `cat`\n",
    "* `head`\n",
    "* `tail`\n",
    "* `wc`\n",
    "* `sort`"
   ]
  },
  {
   "cell_type": "code",
   "execution_count": 2,
   "metadata": {
    "collapsed": false
   },
   "outputs": [
    {
     "name": "stdout",
     "output_type": "stream",
     "text": [
      "## UBC Scientific Software Seminar\r\n",
      "\r\n",
      "The UBC Scientific Software Seminar is inspired by [Software Carpentry](http://software-carpentry.org/) and its goal is to help students, graduates, fellows and faculty at UBC develop software skills for science.\r\n"
     ]
    }
   ],
   "source": [
    "! head -3 ../README.md"
   ]
  },
  {
   "cell_type": "code",
   "execution_count": 3,
   "metadata": {
    "collapsed": false
   },
   "outputs": [
    {
     "name": "stdout",
     "output_type": "stream",
     "text": [
      "      62 ../README.md\r\n"
     ]
    }
   ],
   "source": [
    "! wc -l ../README.md"
   ]
  },
  {
   "cell_type": "markdown",
   "metadata": {},
   "source": [
    "Note that `..` is a reference to the directory above the current working directory."
   ]
  },
  {
   "cell_type": "markdown",
   "metadata": {},
   "source": [
    "#### Pipes, redirections and wildcards\n",
    "\n",
    "We also saw how to use the output of one command as the input into another using the pipe character `|`, and how to redirect output to a file using the character `>`."
   ]
  },
  {
   "cell_type": "markdown",
   "metadata": {},
   "source": [
    "### 1.2 More Bash commands\n",
    "\n",
    "Today, we'll look at more advanced commmands such as:\n",
    "\n",
    "* `curl`\n",
    "* `grep`\n",
    "* `find`\n",
    "* `cut`\n",
    "* `rev`\n",
    "* `date`\n",
    "* `sleep`\n",
    "\n",
    "See the [Bash cheat sheet](http://cli.learncodethehardway.org/bash_cheat_sheet.pdf) for details regarding these commands."
   ]
  },
  {
   "cell_type": "markdown",
   "metadata": {},
   "source": [
    "#### curl\n",
    "\n",
    "The command `curl` fetches a file from a given url and prints the result to standard output.\n",
    "\n",
    "For example, we can fetch the [collected works of Shakespeare](http://www.gutenberg.org/cache/epub/100/pg100.txt) and redirect the output to a file named `shakespeare.txt`:"
   ]
  },
  {
   "cell_type": "code",
   "execution_count": 4,
   "metadata": {
    "collapsed": false
   },
   "outputs": [
    {
     "name": "stdout",
     "output_type": "stream",
     "text": [
      "  % Total    % Received % Xferd  Average Speed   Time    Time     Time  Current\n",
      "                                 Dload  Upload   Total   Spent    Left  Speed\n",
      "100 5458k  100 5458k    0     0  2045k      0  0:00:02  0:00:02 --:--:-- 2044k\n"
     ]
    }
   ],
   "source": [
    "! curl http://www.gutenberg.org/cache/epub/100/pg100.txt > shakespeare.txt"
   ]
  },
  {
   "cell_type": "code",
   "execution_count": 5,
   "metadata": {
    "collapsed": false
   },
   "outputs": [
    {
     "name": "stdout",
     "output_type": "stream",
     "text": [
      "﻿The Project Gutenberg EBook of The Complete Works of William Shakespeare, by\r",
      "\r\n",
      "William Shakespeare\r",
      "\r\n",
      "\r",
      "\r\n",
      "This eBook is for the use of anyone anywhere at no cost and with\r",
      "\r\n",
      "almost no restrictions whatsoever.  You may copy it, give it away or\r",
      "\r\n",
      "re-use it under the terms of the Project Gutenberg License included\r",
      "\r\n",
      "with this eBook or online at www.gutenberg.org\r",
      "\r\n",
      "\r",
      "\r\n",
      "** This is a COPYRIGHTED Project Gutenberg eBook, Details Below **\r",
      "\r\n",
      "**     Please follow the copyright guidelines in this file.     **\r",
      "\r\n",
      "\r",
      "\r\n",
      "Title: The Complete Works of William Shakespeare\r",
      "\r\n",
      "\r",
      "\r\n",
      "Author: William Shakespeare\r",
      "\r\n",
      "\r",
      "\r\n",
      "Posting Date: September 1, 2011 [EBook #100]\r",
      "\r\n",
      "Release Date: January, 1994\r",
      "\r\n",
      "\r",
      "\r\n",
      "Language: English\r",
      "\r\n",
      "\r",
      "\r\n"
     ]
    }
   ],
   "source": [
    "# Look at the first 20 lines of the file\n",
    "! head -20 shakespeare.txt"
   ]
  },
  {
   "cell_type": "code",
   "execution_count": 6,
   "metadata": {
    "collapsed": false
   },
   "outputs": [
    {
     "name": "stdout",
     "output_type": "stream",
     "text": [
      "  124787 shakespeare.txt\r\n"
     ]
    }
   ],
   "source": [
    "# Count the number of lines in the file\n",
    "! wc -l shakespeare.txt"
   ]
  },
  {
   "cell_type": "markdown",
   "metadata": {},
   "source": [
    "#### grep\n",
    "\n",
    "The command `grep` looks in a file for the occurence of a pattern of characters specified by a [regular expression](https://en.wikipedia.org/wiki/Regular_expression). We won't go into regular expressions today and so we'll restrict our searches to words and phrases.\n",
    "\n",
    "For example, let's count the number of times the word \"love\" appears in Shakespeare's works (ignoring case):"
   ]
  },
  {
   "cell_type": "code",
   "execution_count": 7,
   "metadata": {
    "collapsed": false
   },
   "outputs": [
    {
     "name": "stdout",
     "output_type": "stream",
     "text": [
      "    2653\r\n"
     ]
    }
   ],
   "source": [
    "# Count the number of occurences of \"love\"\n",
    "# The flag -i ignores case and so looks for \"love\", \"Love\", \"LOVE\", etc.\n",
    "! grep -i love shakespeare.txt | wc -l"
   ]
  },
  {
   "cell_type": "markdown",
   "metadata": {},
   "source": [
    "We can also look for phrases:"
   ]
  },
  {
   "cell_type": "code",
   "execution_count": 8,
   "metadata": {
    "collapsed": false
   },
   "outputs": [
    {
     "name": "stdout",
     "output_type": "stream",
     "text": [
      "  Jul. O Romeo, Romeo! wherefore art thou Romeo?\r",
      "\r\n"
     ]
    }
   ],
   "source": [
    "! grep \"wherefore art thou\" shakespeare.txt"
   ]
  },
  {
   "cell_type": "code",
   "execution_count": 9,
   "metadata": {
    "collapsed": false
   },
   "outputs": [
    {
     "name": "stdout",
     "output_type": "stream",
     "text": [
      "  Mer. No, 'tis not so deep as a well, nor so wide as a church door;\r",
      "\r\n",
      "    but 'tis enough, 'twill serve. Ask for me to-morrow, and you\r",
      "\r\n",
      "    shall find me a grave man. I am peppered, I warrant, for this\r",
      "\r\n",
      "    world. A plague o' both your houses! Zounds, a dog, a rat, a\r",
      "\r\n",
      "    mouse, a cat, to scratch a man to death! a braggart, a rogue, a\r",
      "\r\n",
      "    villain, that fights by the book of arithmetic! Why the devil\r",
      "\r\n",
      "    came you between us? I was hurt under your arm.\r",
      "\r\n"
     ]
    }
   ],
   "source": [
    "# The flags -B and -A show lines occuring before and after the search text\n",
    "! grep -B 2 -A 4 \"grave man\" shakespeare.txt"
   ]
  },
  {
   "cell_type": "code",
   "execution_count": 10,
   "metadata": {
    "collapsed": true
   },
   "outputs": [],
   "source": [
    "! rm shakespeare.txt"
   ]
  },
  {
   "cell_type": "markdown",
   "metadata": {},
   "source": [
    "### 1.3 Exercise: Scraping the web\n",
    "\n",
    "Write a Bash script which fetches the headlines from several different RSS feeds from cbc.ca (see [cbc.ca/rss/](http://www.cbc.ca/rss/)) and saves them to a text file with a time stamp. Go even further and write the script so that it fetches headlines every 15 minutes."
   ]
  },
  {
   "cell_type": "markdown",
   "metadata": {},
   "source": [
    "As a first step, let's get an XML file from [cbc.ca](http://www.cbc.ca) and take a look at it:"
   ]
  },
  {
   "cell_type": "code",
   "execution_count": 11,
   "metadata": {
    "collapsed": false
   },
   "outputs": [
    {
     "name": "stdout",
     "output_type": "stream",
     "text": [
      "  % Total    % Received % Xferd  Average Speed   Time    Time     Time  Current\r\n",
      "                                 Dload  Upload   Total   Spent    Left  Speed\r\n",
      "\r",
      "  0     0    0     0    0     0      0      0 --:--:-- --:--:-- --:--:--     0\r",
      "100 18540  100 18540    0     0   908k      0 --:--:-- --:--:-- --:--:--  952k\r\n"
     ]
    }
   ],
   "source": [
    "! curl http://www.cbc.ca/cmlink/rss-topstories > topstories-raw.txt"
   ]
  },
  {
   "cell_type": "code",
   "execution_count": 12,
   "metadata": {
    "collapsed": false
   },
   "outputs": [
    {
     "name": "stdout",
     "output_type": "stream",
     "text": [
      "<?xml version=\"1.0\" encoding=\"UTF-8\"?>\r\n",
      "<rss xmlns:cbc=\"http://www.cbc.ca/rss/cbc\" version=\"2.0\">\r\n",
      "  <channel>\r\n",
      "    <title><![CDATA[CBC | Top Stories News ]]></title>\r\n",
      "    <link>http://www.cbc.ca/news/?cmp=rss</link>\r\n",
      "    <description>\r\n",
      "      <![CDATA[\r\n",
      "      FOR PERSONAL USE ONLY\r\n",
      "      ]]>\r\n",
      "    </description>\r\n",
      "    <language>en-ca</language>\r\n",
      "    <lastBuildDate>Wed, 3 Aug 2016 17:33:15 EDT</lastBuildDate>\r\n",
      "    <copyright><![CDATA[Copyright: (C) Canadian Broadcasting Corporation, http://www.cbc.ca/aboutcbc/discover/termsofuse.html#Rss]]></copyright>\r\n",
      "        <docs><![CDATA[http://www.cbc.ca/rss/]]></docs>\r\n",
      "    <image>\r\n",
      "      <title>CBC.ca</title>\r\n",
      "      <url>http://www.cbc.ca/rss/image/cbc_144.gif</url>\r\n",
      "      <link>http://www.cbc.ca/news/?cmp=rss</link>\r\n",
      "    </image>\r\n",
      "    <item cbc:type=\"story\" cbc:deptid=\"2.655\" cbc:syndicate=\"true\">\r\n",
      "      <title><![CDATA[Hunter Tootoo apologizes for 'consensual but inappropriate relationship']]></title>\r\n",
      "            <link>http://www.cbc.ca/news/canada/north/hunter-tootoo-apologizes-for-relationship-1.3706394?cmp=rss</link>\r\n",
      "      <guid isPermaLink=\"false\">1.3706394</guid>\r\n",
      "      <pubDate>Wed, 3 Aug 2016 17:33:15 EDT</pubDate>\r\n",
      "                        <author>Sima Sahar Zerehi</author>\r\n",
      "      \t\t\t\t\t\t\t\t\t\t      <category>News/Canada/North</category>\r\n",
      "      <description>\r\n",
      "        <![CDATA[\r\n",
      "                        <img title='' height='259' alt='Hunter Tootoo' width='460' src='http://i.cbc.ca/1.3706402.1470259454!/fileImage/httpImage/image.jpg_gen/derivatives/16x9_460/hunter-tootoo.jpg' />                <p>'I am ashamed and I apologize to all involved,' the former fisheries minister and Nunavut MP said in the CBC newsroom in Iqaluit this afternoon.</p>\r\n",
      "        ]]>\r\n"
     ]
    }
   ],
   "source": [
    "! head -30 topstories-raw.txt"
   ]
  },
  {
   "cell_type": "markdown",
   "metadata": {},
   "source": [
    "We can see that the headlines are contained in `<title>` tags and so we can use `grep` to find these lines. Notice that the characters `<` and `>` are special characters in Bash and so we need to use the escape character `\\`."
   ]
  },
  {
   "cell_type": "code",
   "execution_count": 13,
   "metadata": {
    "collapsed": false
   },
   "outputs": [
    {
     "name": "stdout",
     "output_type": "stream",
     "text": [
      "    <title><![CDATA[CBC | Top Stories News ]]></title>\r\n",
      "      <title>CBC.ca</title>\r\n",
      "      <title><![CDATA[Hunter Tootoo apologizes for 'consensual but inappropriate relationship']]></title>\r\n",
      "      <title><![CDATA[Canadian women's soccer team wins Olympic opener over Australia]]></title>\r\n",
      "      <title><![CDATA[Mike Pence's endorsement of Paul Ryan is a break with Trump]]></title>\r\n",
      "      <title><![CDATA[Meet the 5 commissioners overseeing the inquiry into missing, murdered Indigenous women]]></title>\r\n",
      "      <title><![CDATA[Man charged with uttering threats against Prime Minister Justin Trudeau on Facebook]]></title>\r\n",
      "      <title><![CDATA[Donald Trump in Florida LIVE at 7 p.m. ET]]></title>\r\n",
      "      <title><![CDATA[Student sues college after work placement beating left her blind in 1 eye]]></title>\r\n",
      "      <title><![CDATA[Spirits of missing, murdered Indigenous women 'close in our hearts,' says First Nations judge leading inquiry]]></title>\r\n",
      "      <title><![CDATA[U.S. buyer says abandoning deal on Vancouver home likely cheaper than foreign-buyer tax]]></title>\r\n",
      "      <title><![CDATA['This is a shame!' Filthy waters raise ire ahead of Rio Olympics ]]></title>\r\n",
      "      <title><![CDATA[Obama shortens 214 prison sentences — including dozens of life terms]]></title>\r\n",
      "      <title><![CDATA[Rowing Canada's 'death machine' grooms champions]]></title>\r\n",
      "      <title><![CDATA[Humans didn't kill off these mammoths, but scientists know what did]]></title>\r\n",
      "      <title><![CDATA[Washington transit officer allegedly caught funding ISIS]]></title>\r\n",
      "      <title><![CDATA[Private firm granted U.S. permission to fly to moon for 1st time]]></title>\r\n"
     ]
    }
   ],
   "source": [
    "! grep \\<title\\> topstories-raw.txt"
   ]
  },
  {
   "cell_type": "markdown",
   "metadata": {},
   "source": [
    "The lines which contain headlines have 22 characters at the beginning of each line which we would like to cut out. We can use the `cut` command to accomplish this task. (See the Bash cheat sheet or Google `bash cut` for help.)"
   ]
  },
  {
   "cell_type": "code",
   "execution_count": 14,
   "metadata": {
    "collapsed": false
   },
   "outputs": [
    {
     "name": "stdout",
     "output_type": "stream",
     "text": [
      "C | Top Stories News ]]></title>\r\n",
      "itle>\r\n",
      "Hunter Tootoo apologizes for 'consensual but inappropriate relationship']]></title>\r\n",
      "Canadian women's soccer team wins Olympic opener over Australia]]></title>\r\n",
      "Mike Pence's endorsement of Paul Ryan is a break with Trump]]></title>\r\n",
      "Meet the 5 commissioners overseeing the inquiry into missing, murdered Indigenous women]]></title>\r\n",
      "Man charged with uttering threats against Prime Minister Justin Trudeau on Facebook]]></title>\r\n",
      "Donald Trump in Florida LIVE at 7 p.m. ET]]></title>\r\n",
      "Student sues college after work placement beating left her blind in 1 eye]]></title>\r\n",
      "Spirits of missing, murdered Indigenous women 'close in our hearts,' says First Nations judge leading inquiry]]></title>\r\n",
      "U.S. buyer says abandoning deal on Vancouver home likely cheaper than foreign-buyer tax]]></title>\r\n",
      "'This is a shame!' Filthy waters raise ire ahead of Rio Olympics ]]></title>\r\n",
      "Obama shortens 214 prison sentences — including dozens of life terms]]></title>\r\n",
      "Rowing Canada's 'death machine' grooms champions]]></title>\r\n",
      "Humans didn't kill off these mammoths, but scientists know what did]]></title>\r\n",
      "Washington transit officer allegedly caught funding ISIS]]></title>\r\n",
      "Private firm granted U.S. permission to fly to moon for 1st time]]></title>\r\n"
     ]
    }
   ],
   "source": [
    "! grep \\<title\\> topstories-raw.txt | cut -c 23-"
   ]
  },
  {
   "cell_type": "markdown",
   "metadata": {},
   "source": [
    "Now there are 11 characters at the end of each line we would like to eliminate. We can use the command `rev` to reverse the order of each line and then use `cut` to remove these characters."
   ]
  },
  {
   "cell_type": "code",
   "execution_count": 15,
   "metadata": {
    "collapsed": false
   },
   "outputs": [
    {
     "name": "stdout",
     "output_type": "stream",
     "text": [
      "C | Top Stories News \r\n",
      "\r\n",
      "Hunter Tootoo apologizes for 'consensual but inappropriate relationship'\r\n",
      "Canadian women's soccer team wins Olympic opener over Australia\r\n",
      "Mike Pence's endorsement of Paul Ryan is a break with Trump\r\n",
      "Meet the 5 commissioners overseeing the inquiry into missing, murdered Indigenous women\r\n",
      "Man charged with uttering threats against Prime Minister Justin Trudeau on Facebook\r\n",
      "Donald Trump in Florida LIVE at 7 p.m. ET\r\n",
      "Student sues college after work placement beating left her blind in 1 eye\r\n",
      "Spirits of missing, murdered Indigenous women 'close in our hearts,' says First Nations judge leading inquiry\r\n",
      "U.S. buyer says abandoning deal on Vancouver home likely cheaper than foreign-buyer tax\r\n",
      "'This is a shame!' Filthy waters raise ire ahead of Rio Olympics \r\n",
      "Obama shortens 214 prison sentences — including dozens of life terms\r\n",
      "Rowing Canada's 'death machine' grooms champions\r\n",
      "Humans didn't kill off these mammoths, but scientists know what did\r\n",
      "Washington transit officer allegedly caught funding ISIS\r\n",
      "Private firm granted U.S. permission to fly to moon for 1st time\r\n"
     ]
    }
   ],
   "source": [
    "! grep \\<title\\> topstories-raw.txt | cut -c 23- | rev | cut -c 12- | rev"
   ]
  },
  {
   "cell_type": "markdown",
   "metadata": {},
   "source": [
    "Finally, we want to eliminate the first two lines and then write the result to a file named `topstories.txt`. We can use the command `tail` to select all but the first two lines."
   ]
  },
  {
   "cell_type": "code",
   "execution_count": 16,
   "metadata": {
    "collapsed": false
   },
   "outputs": [
    {
     "name": "stdout",
     "output_type": "stream",
     "text": [
      "Hunter Tootoo apologizes for 'consensual but inappropriate relationship'\r\n",
      "Canadian women's soccer team wins Olympic opener over Australia\r\n",
      "Mike Pence's endorsement of Paul Ryan is a break with Trump\r\n",
      "Meet the 5 commissioners overseeing the inquiry into missing, murdered Indigenous women\r\n",
      "Man charged with uttering threats against Prime Minister Justin Trudeau on Facebook\r\n",
      "Donald Trump in Florida LIVE at 7 p.m. ET\r\n",
      "Student sues college after work placement beating left her blind in 1 eye\r\n",
      "Spirits of missing, murdered Indigenous women 'close in our hearts,' says First Nations judge leading inquiry\r\n",
      "U.S. buyer says abandoning deal on Vancouver home likely cheaper than foreign-buyer tax\r\n",
      "'This is a shame!' Filthy waters raise ire ahead of Rio Olympics \r\n",
      "Obama shortens 214 prison sentences — including dozens of life terms\r\n",
      "Rowing Canada's 'death machine' grooms champions\r\n",
      "Humans didn't kill off these mammoths, but scientists know what did\r\n",
      "Washington transit officer allegedly caught funding ISIS\r\n",
      "Private firm granted U.S. permission to fly to moon for 1st time\r\n"
     ]
    }
   ],
   "source": [
    "! grep \\<title\\> topstories-raw.txt | cut -c 23- | rev | cut -c 12- | rev | tail -n +3 > topstories.txt\n",
    "! rm topstories-raw.txt\n",
    "! cat topstories.txt"
   ]
  },
  {
   "cell_type": "code",
   "execution_count": 17,
   "metadata": {
    "collapsed": false
   },
   "outputs": [],
   "source": [
    "# Now that we have things working, let's remove the file\n",
    "! rm topstories.txt"
   ]
  },
  {
   "cell_type": "markdown",
   "metadata": {},
   "source": [
    "Finally, let's assemble these commands into a textfile named `get-headlines.sh` and wrap the commands in a for loop to fetch headlines from several different RSS feeds: topstories, canada, politics, offbeat, sports-nba and canada-britishcolumbia. Notice that we use the character `$` to access the value of the variable `subject` in the for loop."
   ]
  },
  {
   "cell_type": "markdown",
   "metadata": {},
   "source": [
    "```bash\n",
    "# get-headlines.sh\n",
    "\n",
    "for subject in topstories canada politics offbeat sports-nba canada-britishcolumbia\n",
    "do\n",
    "curl http://www.cbc.ca/cmlink/rss-$subject > $subject-raw.txt\n",
    "grep \\<title\\> $subject-raw.txt | cut -c 23- | rev | cut -c 12- | rev | tail -n +3 > $subject.txt\n",
    "rm $subject-raw.txt\n",
    "done\n",
    "```"
   ]
  },
  {
   "cell_type": "code",
   "execution_count": 18,
   "metadata": {
    "collapsed": false
   },
   "outputs": [
    {
     "name": "stdout",
     "output_type": "stream",
     "text": [
      "  % Total    % Received % Xferd  Average Speed   Time    Time     Time  Current\n",
      "                                 Dload  Upload   Total   Spent    Left  Speed\n",
      "100 18540  100 18540    0     0   713k      0 --:--:-- --:--:-- --:--:--  724k\n",
      "  % Total    % Received % Xferd  Average Speed   Time    Time     Time  Current\n",
      "                                 Dload  Upload   Total   Spent    Left  Speed\n",
      "100 17945  100 17945    0     0   978k      0 --:--:-- --:--:-- --:--:-- 1030k\n",
      "  % Total    % Received % Xferd  Average Speed   Time    Time     Time  Current\n",
      "                                 Dload  Upload   Total   Spent    Left  Speed\n",
      "100 19269  100 19269    0     0   634k      0 --:--:-- --:--:-- --:--:--  648k\n",
      "  % Total    % Received % Xferd  Average Speed   Time    Time     Time  Current\n",
      "                                 Dload  Upload   Total   Spent    Left  Speed\n",
      "100 17699  100 17699    0     0   764k      0 --:--:-- --:--:-- --:--:--  785k\n",
      "  % Total    % Received % Xferd  Average Speed   Time    Time     Time  Current\n",
      "                                 Dload  Upload   Total   Spent    Left  Speed\n",
      "100 17556  100 17556    0     0  1121k      0 --:--:-- --:--:-- --:--:-- 1142k\n",
      "  % Total    % Received % Xferd  Average Speed   Time    Time     Time  Current\n",
      "                                 Dload  Upload   Total   Spent    Left  Speed\n",
      "100 17304  100 17304    0     0   821k      0 --:--:-- --:--:-- --:--:--  844k\n"
     ]
    }
   ],
   "source": [
    "! bash get-headlines.sh"
   ]
  },
  {
   "cell_type": "code",
   "execution_count": 19,
   "metadata": {
    "collapsed": false
   },
   "outputs": [
    {
     "name": "stdout",
     "output_type": "stream",
     "text": [
      "2016-08-03-notes.ipynb     offbeat.txt\r\n",
      "canada-britishcolumbia.txt politics.txt\r\n",
      "canada.txt                 sports-nba.txt\r\n",
      "get-headlines-repeat.sh    topstories.txt\r\n",
      "get-headlines.sh\r\n"
     ]
    }
   ],
   "source": [
    "! ls"
   ]
  },
  {
   "cell_type": "code",
   "execution_count": 20,
   "metadata": {
    "collapsed": false
   },
   "outputs": [
    {
     "name": "stdout",
     "output_type": "stream",
     "text": [
      "Edmonton man shot in the neck with arrow on America's Got Talent \r\n",
      "Real-life Pokemon: Pikachu statue mysteriously pops up in New Orleans\r\n",
      "Calgary company makes more money from not drilling than drilling\r\n",
      "The cat came back — 19 months and several snowstorms later\r\n",
      "Stolen gnome returned to B.C. woman after 8 months with photos of international adventure\r\n",
      "'Trump Bump' in Cape Breton draws tourists, but few new residents\r\n",
      "Snakes force Ontario city to stop cutting grass at public park\r\n",
      "Ontario town hit by rash of female mannequin thefts \r\n",
      "British badgers terrified by CBC programming, study suggests\r\n",
      "Massive N.B. moth infestation coating cars and parking lots\r\n",
      "Shawshank Redemption oak tree knocked down\r\n",
      "Pelican vs turtle fight captured on Ontario lake\r\n",
      "Boater battles badger on B.C. lake\r\n",
      "Death Road to Canada an indie game take on The Walking Dead, with Mounties and Elvis\r\n",
      "Notable bobbleheads, from Pope Francis to Donald Trump\r\n"
     ]
    }
   ],
   "source": [
    "! cat offbeat.txt"
   ]
  },
  {
   "cell_type": "code",
   "execution_count": 21,
   "metadata": {
    "collapsed": false
   },
   "outputs": [
    {
     "name": "stdout",
     "output_type": "stream",
     "text": [
      "Hunter Tootoo apologizes for 'consensual but inappropriate relationship'\r\n",
      "Canadian women's soccer team wins Olympic opener over Australia\r\n",
      "Marion Buller, B.C. First Nations judge, to lead MMIW inquiry\r\n",
      "Feds apologize after contractor knocks out internet in Yukon, Nunavut\r\n",
      "'It's going to be our ice bucket moment': Brain cancer research could benefit big from Tragically Hip concerts\r\n",
      "Bold wolf forces 200 campers to relocate tents in Banff National Park\r\n",
      "Irving Oil deal to buy Ireland's only refinery 'very welcome indeed,' says MP\r\n",
      "Student sues college after work placement beating left her blind in 1 eye\r\n",
      "Correctional officer takes stress leave due to Phoenix pay issues\r\n",
      "Sask. government doing its own testing of Husky water results\r\n",
      "Teen couple shot to death on Alberta First Nation to be buried side by side\r\n",
      "PM Trudeau to join royals on Yukon visit next month\r\n",
      "P.K. Subban's letter read by Montreal Children's Hospital patients, bringing some to tears\r\n",
      "Trudeau sightings in Tofino B.C. set off waves of Trudeaumania\r\n",
      "Deepa Mehta, Alanis Obomsawin bring latest to TIFF\r\n"
     ]
    }
   ],
   "source": [
    "! cat canada.txt"
   ]
  },
  {
   "cell_type": "code",
   "execution_count": 22,
   "metadata": {
    "collapsed": true
   },
   "outputs": [],
   "source": [
    "# Remove the text files created by get-headlines.sh\n",
    "! rm *.txt"
   ]
  },
  {
   "cell_type": "markdown",
   "metadata": {},
   "source": [
    "#### Scraping the web repeatedly with logging\n",
    "\n",
    "Taking this example further, we can add some code so that our Bash script get headlines every 15 minutes and writes the headlines with names including the date and time. The result is the following:\n",
    "\n",
    "```bash\n",
    "# get-headlines-repeat.sh\n",
    "\n",
    "while true\n",
    "do\n",
    "\n",
    "  for subject in topstories canada politics offbeat sports-nba canada-britishcolumbia\n",
    "  do\n",
    "\n",
    "    # Get the current datetime in the given format\n",
    "    now=$(date +\"%Y-%m-%d-%H-%M\")\n",
    "    \n",
    "    curl http://www.cbc.ca/cmlink/rss-$subject > $subject-raw.txt\n",
    "    \n",
    "    grep \\<title\\> $subject-raw.txt | cut -c 23- | rev | cut -c 12- | rev | tail -n +3 > $subject-$now.txt\n",
    "    \n",
    "    rm $subject-raw.txt\n",
    "    \n",
    "  done\n",
    "  \n",
    "  echo \"Retrieved data at $now ...\"\n",
    "  sleep 900 # Sleep for 900 seconds = 15 minutes\n",
    "\n",
    "done\n",
    "```"
   ]
  },
  {
   "cell_type": "code",
   "execution_count": 23,
   "metadata": {
    "collapsed": false
   },
   "outputs": [],
   "source": [
    "# UNCOMMENT THE NEXT LINE TO EXECUTE get-headlines-repeat.sh\n",
    "# ! bash get-headlines-repeat.sh"
   ]
  },
  {
   "cell_type": "markdown",
   "metadata": {},
   "source": [
    "### 2. Python: logic, loops and functions\n",
    "\n",
    "The following is a quick tour of some parts of the standard Python library intended only as an introduction to Python syntax."
   ]
  },
  {
   "cell_type": "markdown",
   "metadata": {},
   "source": [
    "#### Comparison operators\n",
    "\n",
    "* `==` (equal)\n",
    "* `!=` (not equal)\n",
    "* `<` (less than)\n",
    "* `<=` (less than or equal to)\n",
    "* `>` (greater than)\n",
    "* `>=` (greater than or equal to)"
   ]
  },
  {
   "cell_type": "code",
   "execution_count": 24,
   "metadata": {
    "collapsed": false
   },
   "outputs": [
    {
     "data": {
      "text/plain": [
       "True"
      ]
     },
     "execution_count": 24,
     "metadata": {},
     "output_type": "execute_result"
    }
   ],
   "source": [
    "1 < 2"
   ]
  },
  {
   "cell_type": "code",
   "execution_count": 25,
   "metadata": {
    "collapsed": false
   },
   "outputs": [
    {
     "data": {
      "text/plain": [
       "True"
      ]
     },
     "execution_count": 25,
     "metadata": {},
     "output_type": "execute_result"
    }
   ],
   "source": [
    "\"Patrick\" != \"patrick\""
   ]
  },
  {
   "cell_type": "code",
   "execution_count": 26,
   "metadata": {
    "collapsed": false
   },
   "outputs": [
    {
     "data": {
      "text/plain": [
       "False"
      ]
     },
     "execution_count": 26,
     "metadata": {},
     "output_type": "execute_result"
    }
   ],
   "source": [
    "100 >= 101"
   ]
  },
  {
   "cell_type": "markdown",
   "metadata": {},
   "source": [
    "#### Boolean operators\n",
    "\n",
    "* `and`\n",
    "* `or`\n",
    "* `not`\n",
    "* `in`"
   ]
  },
  {
   "cell_type": "code",
   "execution_count": 27,
   "metadata": {
    "collapsed": false
   },
   "outputs": [
    {
     "data": {
      "text/plain": [
       "True"
      ]
     },
     "execution_count": 27,
     "metadata": {},
     "output_type": "execute_result"
    }
   ],
   "source": [
    "1 < 2 and 1 < 3"
   ]
  },
  {
   "cell_type": "code",
   "execution_count": 28,
   "metadata": {
    "collapsed": false
   },
   "outputs": [
    {
     "data": {
      "text/plain": [
       "False"
      ]
     },
     "execution_count": 28,
     "metadata": {},
     "output_type": "execute_result"
    }
   ],
   "source": [
    "5 % 2 == 2 or 2 + 4 == 2"
   ]
  },
  {
   "cell_type": "code",
   "execution_count": 29,
   "metadata": {
    "collapsed": false
   },
   "outputs": [
    {
     "data": {
      "text/plain": [
       "True"
      ]
     },
     "execution_count": 29,
     "metadata": {},
     "output_type": "execute_result"
    }
   ],
   "source": [
    "'a' in 'aeiou'"
   ]
  },
  {
   "cell_type": "code",
   "execution_count": 30,
   "metadata": {
    "collapsed": false
   },
   "outputs": [
    {
     "data": {
      "text/plain": [
       "True"
      ]
     },
     "execution_count": 30,
     "metadata": {},
     "output_type": "execute_result"
    }
   ],
   "source": [
    "1 not in ['1','2','3']"
   ]
  },
  {
   "cell_type": "markdown",
   "metadata": {},
   "source": [
    "#### Functions\n",
    "\n",
    "Syntax to define a function:\n",
    "\n",
    "```python\n",
    "def fun(x):\n",
    "    return x**2\n",
    "```"
   ]
  },
  {
   "cell_type": "code",
   "execution_count": 31,
   "metadata": {
    "collapsed": true
   },
   "outputs": [],
   "source": [
    "def fun(x):\n",
    "    square = x**2\n",
    "    return square"
   ]
  },
  {
   "cell_type": "code",
   "execution_count": 32,
   "metadata": {
    "collapsed": false
   },
   "outputs": [
    {
     "data": {
      "text/plain": [
       "4"
      ]
     },
     "execution_count": 32,
     "metadata": {},
     "output_type": "execute_result"
    }
   ],
   "source": [
    "fun(2)"
   ]
  },
  {
   "cell_type": "code",
   "execution_count": 33,
   "metadata": {
    "collapsed": false
   },
   "outputs": [
    {
     "data": {
      "text/plain": [
       "1.522756"
      ]
     },
     "execution_count": 33,
     "metadata": {},
     "output_type": "execute_result"
    }
   ],
   "source": [
    "fun(-1.234)"
   ]
  },
  {
   "cell_type": "markdown",
   "metadata": {},
   "source": [
    "#### `if` statement\n",
    "\n",
    "Syntax to define `if` statement:\n",
    "\n",
    "```python\n",
    "if logical_expression_1:\n",
    "    # Python code block 1\n",
    "    # indented statndard 4 spaces\n",
    "elif logical_expression_2:\n",
    "    # Python code block 2\n",
    "    # indented statndard 4 spaces\n",
    "else:\n",
    "    # Python code block 3\n",
    "    # indented statndard 4 spaces\n",
    "```"
   ]
  },
  {
   "cell_type": "code",
   "execution_count": 34,
   "metadata": {
    "collapsed": false
   },
   "outputs": [
    {
     "name": "stdout",
     "output_type": "stream",
     "text": [
      "Duh!\n"
     ]
    }
   ],
   "source": [
    "if 1 < 2:\n",
    "    print('Duh!')\n",
    "else:\n",
    "    print(\"What?\")"
   ]
  },
  {
   "cell_type": "markdown",
   "metadata": {},
   "source": [
    "### Exercise 2.1: Roots of quadratics\n",
    "\n",
    "Write a function which takes parameters a, b, and c and determines whether the polynomial $ax^2 + bx + c$ has real distinct roots, complex roots or one real repeated root."
   ]
  },
  {
   "cell_type": "code",
   "execution_count": 35,
   "metadata": {
    "collapsed": false
   },
   "outputs": [],
   "source": [
    "def roots(a,b,c):\n",
    "    discriminant = b**2 - 4*a*c\n",
    "    print(\"p(x) = {0}x^2 + {1}x + {2}\".format(a,b,c))\n",
    "    if discriminant > 0:\n",
    "        print(\"Roots are real and distinct.\")\n",
    "    elif discriminant < 0:\n",
    "        print(\"Roots are complex.\")\n",
    "    else:\n",
    "        print(\"One repeated real root.\")"
   ]
  },
  {
   "cell_type": "code",
   "execution_count": 36,
   "metadata": {
    "collapsed": false
   },
   "outputs": [
    {
     "name": "stdout",
     "output_type": "stream",
     "text": [
      "p(x) = 1x^2 + 0x + 1\n",
      "Roots are complex.\n"
     ]
    }
   ],
   "source": [
    "roots(1,0,1)"
   ]
  },
  {
   "cell_type": "code",
   "execution_count": 37,
   "metadata": {
    "collapsed": false
   },
   "outputs": [
    {
     "name": "stdout",
     "output_type": "stream",
     "text": [
      "p(x) = 1x^2 + 0x + -1\n",
      "Roots are real and distinct.\n"
     ]
    }
   ],
   "source": [
    "roots(1,0,-1)"
   ]
  },
  {
   "cell_type": "code",
   "execution_count": 38,
   "metadata": {
    "collapsed": false
   },
   "outputs": [
    {
     "name": "stdout",
     "output_type": "stream",
     "text": [
      "p(x) = 1x^2 + 2x + 1\n",
      "One repeated real root.\n"
     ]
    }
   ],
   "source": [
    "roots(1,2,1)"
   ]
  },
  {
   "cell_type": "markdown",
   "metadata": {},
   "source": [
    "#### `for` loop\n",
    "\n",
    "Syntax to write a `for` loop:\n",
    "\n",
    "```python\n",
    "for variable in iterable_object:\n",
    "    # Python code block\n",
    "    # indented standard 4 spaces\n",
    "```"
   ]
  },
  {
   "cell_type": "markdown",
   "metadata": {},
   "source": [
    "Examples of iterable objects:\n",
    "\n",
    "* lists\n",
    "* strings\n",
    "* an object returned by a generator function such as `range`"
   ]
  },
  {
   "cell_type": "code",
   "execution_count": 39,
   "metadata": {
    "collapsed": false
   },
   "outputs": [
    {
     "name": "stdout",
     "output_type": "stream",
     "text": [
      "BIZ!\n",
      "BAM!\n",
      "BOOM!\n",
      "POW!\n"
     ]
    }
   ],
   "source": [
    "noises = [\"biz\",\"bam\",\"boom\",\"pow\"]\n",
    "for noise in noises:\n",
    "    noise = noise.upper() # string method .upper() returns the string in uppercase\n",
    "    print(noise + \"!\")"
   ]
  },
  {
   "cell_type": "code",
   "execution_count": 40,
   "metadata": {
    "collapsed": false
   },
   "outputs": [
    {
     "name": "stdout",
     "output_type": "stream",
     "text": [
      "Give me a P!\n",
      "Give me a a!\n",
      "Give me a t!\n",
      "Give me a r!\n",
      "Give me a i!\n",
      "Give me a c!\n",
      "Give me a k!\n"
     ]
    }
   ],
   "source": [
    "my_name = \"Patrick\"\n",
    "for letter in my_name:\n",
    "    print(\"Give me a\",letter + \"!\")"
   ]
  },
  {
   "cell_type": "code",
   "execution_count": 41,
   "metadata": {
    "collapsed": false
   },
   "outputs": [
    {
     "name": "stdout",
     "output_type": "stream",
     "text": [
      "0 squared is equal to 0\n",
      "1 squared is equal to 1\n",
      "2 squared is equal to 4\n",
      "3 squared is equal to 9\n",
      "4 squared is equal to 16\n",
      "5 squared is equal to 25\n",
      "6 squared is equal to 36\n",
      "7 squared is equal to 49\n",
      "8 squared is equal to 64\n",
      "9 squared is equal to 81\n"
     ]
    }
   ],
   "source": [
    "for n in range(0,10):\n",
    "    n_squared = n**2\n",
    "    print(n, \"squared is equal to\", n_squared)"
   ]
  },
  {
   "cell_type": "code",
   "execution_count": 42,
   "metadata": {
    "collapsed": false
   },
   "outputs": [
    {
     "name": "stdout",
     "output_type": "stream",
     "text": [
      "0 squared is equal to 0\n",
      "1 squared is equal to 1\n",
      "2 squared is equal to 4\n",
      "3 squared is equal to 9\n",
      "4 squared is equal to 16\n",
      "5 squared is equal to 25\n",
      "6 squared is equal to 36\n",
      "7 squared is equal to 49\n",
      "8 squared is equal to 64\n",
      "9 squared is equal to 81\n"
     ]
    }
   ],
   "source": [
    "for n in [0,1,2,3,4,5,6,7,8,9]:\n",
    "    n_squared = n**2\n",
    "    print(n, \"squared is equal to\", n_squared)"
   ]
  },
  {
   "cell_type": "markdown",
   "metadata": {},
   "source": [
    "### Exercise 2.2: Partial sums of series\n",
    "\n",
    "Write a function which takes parameters $x$ and $N$ and returns the $Nth$ partial sum of the Taylor series of $\\log x$:\n",
    "\n",
    "$$\n",
    "\\sum_{n=1}^N (-1)^{n+1} \\frac{(x-1)^n}{n}\n",
    "$$"
   ]
  },
  {
   "cell_type": "code",
   "execution_count": 43,
   "metadata": {
    "collapsed": true
   },
   "outputs": [],
   "source": [
    "def log_partial_sum(x,N):\n",
    "    result = 0\n",
    "    for n in range(1,N+1):\n",
    "        result = result + (-1)**(n+1) * (x-1)**n / n\n",
    "    return result"
   ]
  },
  {
   "cell_type": "code",
   "execution_count": 44,
   "metadata": {
    "collapsed": false
   },
   "outputs": [
    {
     "data": {
      "text/plain": [
       "0.0"
      ]
     },
     "execution_count": 44,
     "metadata": {},
     "output_type": "execute_result"
    }
   ],
   "source": [
    "# Check log(1) = 0\n",
    "log_partial_sum(1,1)"
   ]
  },
  {
   "cell_type": "code",
   "execution_count": 45,
   "metadata": {
    "collapsed": false
   },
   "outputs": [
    {
     "data": {
      "text/plain": [
       "-0.9999999999964204"
      ]
     },
     "execution_count": 45,
     "metadata": {},
     "output_type": "execute_result"
    }
   ],
   "source": [
    "# Check log(1/e) = -1\n",
    "log_partial_sum(1/2.7182818284590451,50)"
   ]
  },
  {
   "cell_type": "markdown",
   "metadata": {},
   "source": [
    "### 3. NumPy and matplotlib\n",
    "\n",
    "Python is a general purpose scripting language and can be used to solve a wide variety of problems. Python packages are modules of Python scripts designed for a specific problem and the [Python Package Index (PyPI)](https://pypi.python.org/pypi) currently hosts over 85,000 open source packages!\n",
    "\n",
    "There are Python packages for just about everything: server-side web applications, symbolic mathematical computation, image processing, interactive web-based data visualization, et cetera.\n",
    "\n",
    "We will focus on the SciPy stack: [NumPy](http://www.numpy.org/), [SciPy](http://scipy.org/), [matplotlib](http://matplotlib.org/) and [pandas](http://pandas.pydata.org/). These Python packages form the basis of scientific computing in Python."
   ]
  },
  {
   "cell_type": "markdown",
   "metadata": {},
   "source": [
    "NumPy is built for fast array computations. We'll explore the package further in the coming weeks but for now let's simply create some NumPy arrays. The first step with any package is to import it:"
   ]
  },
  {
   "cell_type": "code",
   "execution_count": 46,
   "metadata": {
    "collapsed": true
   },
   "outputs": [],
   "source": [
    "import numpy as np"
   ]
  },
  {
   "cell_type": "markdown",
   "metadata": {},
   "source": [
    "We access functions and objects in the NumPy package using the dot notation `np.______` (and so the abbreviated name `np` is a convention which simplifies each call to the package)."
   ]
  },
  {
   "cell_type": "code",
   "execution_count": 47,
   "metadata": {
    "collapsed": false
   },
   "outputs": [
    {
     "data": {
      "text/plain": [
       "array([ 0. ,  0.1,  0.2,  0.3,  0.4,  0.5,  0.6,  0.7,  0.8,  0.9,  1. ])"
      ]
     },
     "execution_count": 47,
     "metadata": {},
     "output_type": "execute_result"
    }
   ],
   "source": [
    "np.linspace(0,1,11)"
   ]
  },
  {
   "cell_type": "markdown",
   "metadata": {},
   "source": [
    "We can view the documentation in our Jupyter notebook using a question mark such as:"
   ]
  },
  {
   "cell_type": "code",
   "execution_count": 48,
   "metadata": {
    "collapsed": true
   },
   "outputs": [],
   "source": [
    "np.linspace?"
   ]
  },
  {
   "cell_type": "markdown",
   "metadata": {},
   "source": [
    "All the usual mathematical functions are included in NumPy and are vectorized: they accept arrays as arguments and apply functions elementwise."
   ]
  },
  {
   "cell_type": "code",
   "execution_count": 49,
   "metadata": {
    "collapsed": false
   },
   "outputs": [
    {
     "name": "stdout",
     "output_type": "stream",
     "text": [
      "[ 0.   0.1  0.2  0.3  0.4  0.5  0.6  0.7  0.8  0.9  1. ]\n",
      "[ 1.          1.10517092  1.22140276  1.34985881  1.4918247   1.64872127\n",
      "  1.8221188   2.01375271  2.22554093  2.45960311  2.71828183]\n"
     ]
    }
   ],
   "source": [
    "x = np.linspace(0,1,11)\n",
    "y = np.exp(x)\n",
    "print(x)\n",
    "print(y)"
   ]
  },
  {
   "cell_type": "markdown",
   "metadata": {},
   "source": [
    "matplotlib is a plotting library which is very similar to Matlab's plotting library. Let's import it with the statndard naming convention:"
   ]
  },
  {
   "cell_type": "code",
   "execution_count": 50,
   "metadata": {
    "collapsed": true
   },
   "outputs": [],
   "source": [
    "import matplotlib.pyplot as plt"
   ]
  },
  {
   "cell_type": "markdown",
   "metadata": {},
   "source": [
    "We need a bit of [magic](http://ipython.readthedocs.io/en/stable/interactive/magics.html). The following tells the Jupyter notebook to output matplotlib figures *inline*."
   ]
  },
  {
   "cell_type": "code",
   "execution_count": 51,
   "metadata": {
    "collapsed": true
   },
   "outputs": [],
   "source": [
    "%matplotlib inline"
   ]
  },
  {
   "cell_type": "markdown",
   "metadata": {},
   "source": [
    "Now plotting is as simple as:"
   ]
  },
  {
   "cell_type": "code",
   "execution_count": 52,
   "metadata": {
    "collapsed": false
   },
   "outputs": [
    {
     "data": {
      "text/plain": [
       "[<matplotlib.lines.Line2D at 0x10d0a1a20>]"
      ]
     },
     "execution_count": 52,
     "metadata": {},
     "output_type": "execute_result"
    },
    {
     "data": {
      "image/png": "[encoded data removed]",
      "text/plain": [
       "<matplotlib.figure.Figure at 0x10d0190f0>"
      ]
     },
     "metadata": {},
     "output_type": "display_data"
    }
   ],
   "source": [
    "x = np.linspace(0,50,1000)\n",
    "y = np.exp(-0.1*x) * np.cos(x)\n",
    "plt.plot(x,y)"
   ]
  },
  {
   "cell_type": "markdown",
   "metadata": {},
   "source": [
    "### Exercise 3.1: Plotting mathematical functions\n",
    "\n",
    "1. Plot the function $f(x) = 1 - x^2$ for $x \\in [-2,2]$.\n",
    "2. Plot the function $f(x) = \\arctan x$ for $x \\in [-5,5]$.\n",
    "3. Plot the parametic curve $x(t) = \\cos 3t$, $y(t) = \\sin 2t$ for $t \\in [0,2 \\pi]$."
   ]
  }
 ],
 "metadata": {
  "kernelspec": {
   "display_name": "Python 3",
   "language": "python",
   "name": "python3"
  },
  "language_info": {
   "codemirror_mode": {
    "name": "ipython",
    "version": 3
   },
   "file_extension": ".py",
   "mimetype": "text/x-python",
   "name": "python",
   "nbconvert_exporter": "python",
   "pygments_lexer": "ipython3",
   "version": "3.4.4"
  }
 },
 "nbformat": 4,
 "nbformat_minor": 0
}
