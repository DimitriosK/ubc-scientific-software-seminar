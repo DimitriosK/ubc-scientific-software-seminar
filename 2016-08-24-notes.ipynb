{
 "cells": [
  {
   "cell_type": "markdown",
   "metadata": {},
   "source": [
    "# UBC Scientific Software Seminar\n",
    "\n",
    "## August 24, 2016\n",
    "\n",
    "Today's Agenda:\n",
    "\n",
    "A basic machine learning example:\n",
    "\n",
    "* Digits dataset\n",
    "* Our own *k*-nearest neighbors classifier\n",
    "* Evaluating the classifier\n",
    "* Implementing `sklearn.neighbors.KNeighborsClassifier`"
   ]
  },
  {
   "cell_type": "code",
   "execution_count": 1,
   "metadata": {
    "collapsed": true
   },
   "outputs": [],
   "source": [
    "import matplotlib.pyplot as plt\n",
    "import numpy as np\n",
    "%matplotlib inline"
   ]
  },
  {
   "cell_type": "markdown",
   "metadata": {},
   "source": [
    "### Digits dataset\n",
    "\n",
    "The [scikit-learn](http://scikit-learn.org/) package comes equipped with some toy [datasets](http://scikit-learn.org/stable/modules/classes.html#module-sklearn.datasets) to explore and, in this notebook, we'll look at the [digits dataset](http://scikit-learn.org/stable/modules/generated/sklearn.datasets.load_digits.html). We import the `datasets` module and use the `load_digits` function to load the digits dataset. We can use `datasets.load_digits?` to consult the documentation to see what is returned."
   ]
  },
  {
   "cell_type": "code",
   "execution_count": 2,
   "metadata": {
    "collapsed": true
   },
   "outputs": [],
   "source": [
    "from sklearn import datasets"
   ]
  },
  {
   "cell_type": "code",
   "execution_count": 3,
   "metadata": {
    "collapsed": true
   },
   "outputs": [],
   "source": [
    "datasets.load_digits?"
   ]
  },
  {
   "cell_type": "markdown",
   "metadata": {},
   "source": [
    "According to the documentation, the `load_digits` function returns a dictionary-like object which packages together several NumPy arrays and a description. To see what's available in the object, we can use the `.keys()` method:"
   ]
  },
  {
   "cell_type": "code",
   "execution_count": 4,
   "metadata": {
    "collapsed": false
   },
   "outputs": [],
   "source": [
    "digits = datasets.load_digits()"
   ]
  },
  {
   "cell_type": "code",
   "execution_count": 5,
   "metadata": {
    "collapsed": false
   },
   "outputs": [
    {
     "data": {
      "text/plain": [
       "dict_keys(['DESCR', 'target', 'target_names', 'data', 'images'])"
      ]
     },
     "execution_count": 5,
     "metadata": {},
     "output_type": "execute_result"
    }
   ],
   "source": [
    "digits.keys()"
   ]
  },
  {
   "cell_type": "code",
   "execution_count": 6,
   "metadata": {
    "collapsed": false
   },
   "outputs": [
    {
     "name": "stdout",
     "output_type": "stream",
     "text": [
      "Optical Recognition of Handwritten Digits Data Set\n",
      "===================================================\n",
      "\n",
      "Notes\n",
      "-----\n",
      "Data Set Characteristics:\n",
      "    :Number of Instances: 5620\n",
      "    :Number of Attributes: 64\n",
      "    :Attribute Information: 8x8 image of integer pixels in the range 0..16.\n",
      "    :Missing Attribute Values: None\n",
      "    :Creator: E. Alpaydin (alpaydin '@' boun.edu.tr)\n",
      "    :Date: July; 1998\n",
      "\n",
      "This is a copy of the test set of the UCI ML hand-written digits datasets\n",
      "http://archive.ics.uci.edu/ml/datasets/Optical+Recognition+of+Handwritten+Digits\n",
      "\n",
      "The data set contains images of hand-written digits: 10 classes where\n",
      "each class refers to a digit.\n",
      "\n",
      "Preprocessing programs made available by NIST were used to extract\n",
      "normalized bitmaps of handwritten digits from a preprinted form. From a\n",
      "total of 43 people, 30 contributed to the training set and different 13\n",
      "to the test set. 32x32 bitmaps are divided into nonoverlapping blocks of\n",
      "4x4 and the number of on pixels are counted in each block. This generates\n",
      "an input matrix of 8x8 where each element is an integer in the range\n",
      "0..16. This reduces dimensionality and gives invariance to small\n",
      "distortions.\n",
      "\n",
      "For info on NIST preprocessing routines, see M. D. Garris, J. L. Blue, G.\n",
      "T. Candela, D. L. Dimmick, J. Geist, P. J. Grother, S. A. Janet, and C.\n",
      "L. Wilson, NIST Form-Based Handprint Recognition System, NISTIR 5469,\n",
      "1994.\n",
      "\n",
      "References\n",
      "----------\n",
      "  - C. Kaynak (1995) Methods of Combining Multiple Classifiers and Their\n",
      "    Applications to Handwritten Digit Recognition, MSc Thesis, Institute of\n",
      "    Graduate Studies in Science and Engineering, Bogazici University.\n",
      "  - E. Alpaydin, C. Kaynak (1998) Cascading Classifiers, Kybernetika.\n",
      "  - Ken Tang and Ponnuthurai N. Suganthan and Xi Yao and A. Kai Qin.\n",
      "    Linear dimensionalityreduction using relevance weighted LDA. School of\n",
      "    Electrical and Electronic Engineering Nanyang Technological University.\n",
      "    2005.\n",
      "  - Claudio Gentile. A New Approximate Maximal Margin Classification\n",
      "    Algorithm. NIPS. 2000.\n",
      "\n"
     ]
    }
   ],
   "source": [
    "print(digits.DESCR)"
   ]
  },
  {
   "cell_type": "markdown",
   "metadata": {},
   "source": [
    "Let's look at the various arrays in the digits object. First, the **data array** is a 2D array where each row is a sample corresponding to a hand-written digit. We see that there are 1797 samples in the dataset each consisting of a 1D array of length 64 (representing an 8 by 8 pixel image)."
   ]
  },
  {
   "cell_type": "code",
   "execution_count": 7,
   "metadata": {
    "collapsed": false
   },
   "outputs": [
    {
     "data": {
      "text/plain": [
       "numpy.ndarray"
      ]
     },
     "execution_count": 7,
     "metadata": {},
     "output_type": "execute_result"
    }
   ],
   "source": [
    "type(digits.data)"
   ]
  },
  {
   "cell_type": "code",
   "execution_count": 8,
   "metadata": {
    "collapsed": false
   },
   "outputs": [
    {
     "data": {
      "text/plain": [
       "(1797, 64)"
      ]
     },
     "execution_count": 8,
     "metadata": {},
     "output_type": "execute_result"
    }
   ],
   "source": [
    "digits.data.shape"
   ]
  },
  {
   "cell_type": "code",
   "execution_count": 9,
   "metadata": {
    "collapsed": false
   },
   "outputs": [
    {
     "data": {
      "text/plain": [
       "array([  0.,   0.,   5.,  13.,   9.,   1.,   0.,   0.,   0.,   0.,  13.,\n",
       "        15.,  10.,  15.,   5.,   0.,   0.,   3.,  15.,   2.,   0.,  11.,\n",
       "         8.,   0.,   0.,   4.,  12.,   0.,   0.,   8.,   8.,   0.,   0.,\n",
       "         5.,   8.,   0.,   0.,   9.,   8.,   0.,   0.,   4.,  11.,   0.,\n",
       "         1.,  12.,   7.,   0.,   0.,   2.,  14.,   5.,  10.,  12.,   0.,\n",
       "         0.,   0.,   0.,   6.,  13.,  10.,   0.,   0.,   0.])"
      ]
     },
     "execution_count": 9,
     "metadata": {},
     "output_type": "execute_result"
    }
   ],
   "source": [
    "digits.data[0,:]"
   ]
  },
  {
   "cell_type": "markdown",
   "metadata": {},
   "source": [
    "The **target array** contains the label for each sample in data. We can see that the first sample is the digit 0."
   ]
  },
  {
   "cell_type": "code",
   "execution_count": 10,
   "metadata": {
    "collapsed": false
   },
   "outputs": [
    {
     "data": {
      "text/plain": [
       "(1797,)"
      ]
     },
     "execution_count": 10,
     "metadata": {},
     "output_type": "execute_result"
    }
   ],
   "source": [
    "digits.target.shape"
   ]
  },
  {
   "cell_type": "code",
   "execution_count": 11,
   "metadata": {
    "collapsed": false
   },
   "outputs": [
    {
     "data": {
      "text/plain": [
       "0"
      ]
     },
     "execution_count": 11,
     "metadata": {},
     "output_type": "execute_result"
    }
   ],
   "source": [
    "digits.target[0]"
   ]
  },
  {
   "cell_type": "markdown",
   "metadata": {},
   "source": [
    "The **images array** is a 3D array which contains the same data as the data array but each sample is reshaped into a 8 by 8 array representing an 8 by 8 pixel image. In other words, the image array is simply a convenience so that we don't have to reshape the samples in the data array when we want to view the image."
   ]
  },
  {
   "cell_type": "code",
   "execution_count": 12,
   "metadata": {
    "collapsed": false
   },
   "outputs": [
    {
     "data": {
      "text/plain": [
       "(1797, 8, 8)"
      ]
     },
     "execution_count": 12,
     "metadata": {},
     "output_type": "execute_result"
    }
   ],
   "source": [
    "digits.images.shape"
   ]
  },
  {
   "cell_type": "code",
   "execution_count": 13,
   "metadata": {
    "collapsed": false
   },
   "outputs": [
    {
     "data": {
      "text/plain": [
       "array([[  0.,   0.,   5.,  13.,   9.,   1.,   0.,   0.],\n",
       "       [  0.,   0.,  13.,  15.,  10.,  15.,   5.,   0.],\n",
       "       [  0.,   3.,  15.,   2.,   0.,  11.,   8.,   0.],\n",
       "       [  0.,   4.,  12.,   0.,   0.,   8.,   8.,   0.],\n",
       "       [  0.,   5.,   8.,   0.,   0.,   9.,   8.,   0.],\n",
       "       [  0.,   4.,  11.,   0.,   1.,  12.,   7.,   0.],\n",
       "       [  0.,   2.,  14.,   5.,  10.,  12.,   0.,   0.],\n",
       "       [  0.,   0.,   6.,  13.,  10.,   0.,   0.,   0.]])"
      ]
     },
     "execution_count": 13,
     "metadata": {},
     "output_type": "execute_result"
    }
   ],
   "source": [
    "digits.images[0,:,:]"
   ]
  },
  {
   "cell_type": "code",
   "execution_count": 14,
   "metadata": {
    "collapsed": false
   },
   "outputs": [
    {
     "data": {
      "text/plain": [
       "array([[  0.,   0.,   5.,  13.,   9.,   1.,   0.,   0.],\n",
       "       [  0.,   0.,  13.,  15.,  10.,  15.,   5.,   0.],\n",
       "       [  0.,   3.,  15.,   2.,   0.,  11.,   8.,   0.],\n",
       "       [  0.,   4.,  12.,   0.,   0.,   8.,   8.,   0.],\n",
       "       [  0.,   5.,   8.,   0.,   0.,   9.,   8.,   0.],\n",
       "       [  0.,   4.,  11.,   0.,   1.,  12.,   7.,   0.],\n",
       "       [  0.,   2.,  14.,   5.,  10.,  12.,   0.,   0.],\n",
       "       [  0.,   0.,   6.,  13.,  10.,   0.,   0.,   0.]])"
      ]
     },
     "execution_count": 14,
     "metadata": {},
     "output_type": "execute_result"
    }
   ],
   "source": [
    "digits.data[0,:].reshape(8,8)"
   ]
  },
  {
   "cell_type": "code",
   "execution_count": 15,
   "metadata": {
    "collapsed": false
   },
   "outputs": [
    {
     "data": {
      "text/plain": [
       "<matplotlib.image.AxesImage at 0x7f07d4c2ec50>"
      ]
     },
     "execution_count": 15,
     "metadata": {},
     "output_type": "execute_result"
    },
    {
     "data": {
      "image/png": "[encoded data removed]",
      "text/plain": [
       "<matplotlib.figure.Figure at 0x7f07d4c14828>"
      ]
     },
     "metadata": {},
     "output_type": "display_data"
    }
   ],
   "source": [
    "plt.imshow(digits.images[0,:,:],cmap='binary')"
   ]
  },
  {
   "cell_type": "markdown",
   "metadata": {},
   "source": [
    "The **target_names array** is simply the complete list of labels for the samples:"
   ]
  },
  {
   "cell_type": "code",
   "execution_count": 16,
   "metadata": {
    "collapsed": false
   },
   "outputs": [
    {
     "data": {
      "text/plain": [
       "array([0, 1, 2, 3, 4, 5, 6, 7, 8, 9])"
      ]
     },
     "execution_count": 16,
     "metadata": {},
     "output_type": "execute_result"
    }
   ],
   "source": [
    "digits.target_names"
   ]
  },
  {
   "cell_type": "markdown",
   "metadata": {
    "collapsed": false
   },
   "source": [
    "**Exercise.** Plot a 4 by 4 grid of randomly selected images from the dataset to get a sense of what the digits look like:"
   ]
  },
  {
   "cell_type": "code",
   "execution_count": 17,
   "metadata": {
    "collapsed": false
   },
   "outputs": [
    {
     "data": {
      "image/png": "[encoded data removed]",
      "text/plain": [
       "<matplotlib.figure.Figure at 0x7f07d4dfdda0>"
      ]
     },
     "metadata": {},
     "output_type": "display_data"
    }
   ],
   "source": [
    "indices = np.random.randint(0,1797,16) # Create an array of 16 random integers chosen from the interval [0,1797]\n",
    "\n",
    "plt.figure(figsize=(8,8))\n",
    "\n",
    "for i in range(0,16):\n",
    "    plt.subplot(4,4,i+1)\n",
    "    plt.imshow(digits.images[indices[i]],cmap='binary')\n",
    "    plt.title('Digit = {}'.format(digits.target[indices[i]]))\n",
    "    plt.axis('off')\n",
    "\n",
    "plt.tight_layout()"
   ]
  },
  {
   "cell_type": "markdown",
   "metadata": {},
   "source": [
    "### Split the dataset into a training set and a testing set\n",
    "\n",
    "It's very important **not** to use the same data for constructing *and* testing your models for obvious reasons. It's [standard practice](http://scikit-learn.org/stable/tutorial/basic/tutorial.html) to split your dataset into a training set and a testing set."
   ]
  },
  {
   "cell_type": "code",
   "execution_count": 18,
   "metadata": {
    "collapsed": true
   },
   "outputs": [],
   "source": [
    "# N is arbitrarily chosen to be the size of the training dataset\n",
    "# (it may be better to take random sample of the dataset instead of the first N samples)\n",
    "N = 1200\n",
    "\n",
    "data_train = digits.data[:N,:]\n",
    "target_train = digits.target[:N]\n",
    "\n",
    "data_test = digits.data[N:,:]\n",
    "target_test = digits.target[N:]"
   ]
  },
  {
   "cell_type": "markdown",
   "metadata": {},
   "source": [
    "### Building our own *k*-nearest neighbors classifier\n",
    "\n",
    "[Nearest neighbors](http://scikit-learn.org/stable/modules/neighbors.html) refers to a family of classification and regression algorithms based on a simple principle: \"find a predefined number of training samples closest in distance to the new point, and predict the label from these\".\n",
    "\n",
    "Since the idea is simple enough, let's build our own classifier before we begin using sklearn implementations.\n",
    "\n",
    "#### Attempt 1: Build the classifier as a function\n",
    "\n",
    "Write a function which takes the following parameters:\n",
    "\n",
    "* `sample` - array of length 64 with values in the interval [0,16] (represnting an 8 by 8 pixel image of a digit)\n",
    "* `data` - array of samples of digits (as a 2D array of size (n samples) by 64)\n",
    "* `target` - array of labels for the samples in data\n",
    "* `k` - number of nearest neighbors to find"
   ]
  },
  {
   "cell_type": "code",
   "execution_count": 19,
   "metadata": {
    "collapsed": true
   },
   "outputs": [],
   "source": [
    "def knn_predict(sample,data,target,k=1,output=False):\n",
    "    '''Predict digit label of sample using KNN with training samples in data with labels target.'''\n",
    "    \n",
    "    distances = np.linalg.norm(sample - data, axis=1)\n",
    "    sorted_distances = np.sort(distances)\n",
    "    threshold = sorted_distances[k - 1]\n",
    "    neighbors = target[distances <= threshold]\n",
    "    prediction = np.bincount(neighbors).argmax()\n",
    "    \n",
    "    if output:\n",
    "        plt.imshow(sample.reshape(8,8),cmap='binary')\n",
    "        plt.title('Sample Image')\n",
    "        plt.axis('off')\n",
    "        plt.show()\n",
    "\n",
    "        print(k,'nearest neighbors are:',neighbors)\n",
    "\n",
    "        print('\\nKNN predicts:',prediction)\n",
    "    \n",
    "    return prediction"
   ]
  },
  {
   "cell_type": "code",
   "execution_count": 20,
   "metadata": {
    "collapsed": false
   },
   "outputs": [
    {
     "data": {
      "image/png": "[encoded data removed]",
      "text/plain": [
       "<matplotlib.figure.Figure at 0x7f07d1ddaef0>"
      ]
     },
     "metadata": {},
     "output_type": "display_data"
    },
    {
     "name": "stdout",
     "output_type": "stream",
     "text": [
      "7 nearest neighbors are: [9 9 9 9 9 9 9]\n",
      "\n",
      "KNN predicts: 9\n",
      "\n",
      "Digit is: 9\n"
     ]
    }
   ],
   "source": [
    "i = np.random.randint(0,len(data_test)) # Choose a random index in the test data\n",
    "knn_predict(data_test[i,:],data_train,target_train,k=7,output=True)\n",
    "print('\\nDigit is:',target_test[i])"
   ]
  },
  {
   "cell_type": "markdown",
   "metadata": {},
   "source": [
    "#### Attempt 2: Build the classifier as an object\n",
    "\n",
    "Write a class which produces objects with:\n",
    "\n",
    "Attributes:\n",
    "\n",
    "* `data` - array of training samples of digits (as a 2D array of size (n samples) by 64)\n",
    "* `target` - array of training labels for the samples in data\n",
    "* `k` - number of neighbors in KNN algorithm\n",
    "\n",
    "Methods:\n",
    "\n",
    "* `__init__` - instantiates an object\n",
    "* `fit` - creates a model ready for prediction\n",
    "* `predict` - takes an sample (as an array of length 64) and predicts the digit based on the KNN model\n",
    "* `score` - takes arrays of images and labels and returns the accuracy of the model"
   ]
  },
  {
   "cell_type": "code",
   "execution_count": 21,
   "metadata": {
    "collapsed": false
   },
   "outputs": [],
   "source": [
    "class KNN():\n",
    "    \n",
    "    def __init__(self,k=10):\n",
    "        self.k = k\n",
    "        print('Creating KNN classifier object with k = {} ...'.format(self.k))\n",
    "    \n",
    "    def fit(self,data_train,target_train):\n",
    "        self.data = data_train\n",
    "        self.target = target_train\n",
    "        print('Fitting the model with',self.data.shape[0],'training samples ...')\n",
    "    \n",
    "    def predict(self,sample,output=False):\n",
    "        distances = np.linalg.norm(sample - self.data, axis=1)\n",
    "        sorted_distances = np.sort(distances)\n",
    "        threshold = sorted_distances[self.k - 1]\n",
    "        neighbors = self.target[distances <= threshold]\n",
    "        prediction = np.bincount(neighbors).argmax()\n",
    "\n",
    "        if output:\n",
    "            plt.imshow(sample.reshape(8,8),cmap='binary')\n",
    "            plt.title('Sample Image')\n",
    "            plt.axis('off')\n",
    "            plt.show()\n",
    "            print(self.k,'nearest neighbors are:',neighbors)\n",
    "            print('\\nKNN predicts:',prediction)\n",
    "    \n",
    "        return prediction\n",
    "    \n",
    "    def score(self,test_data,test_target):\n",
    "        n_samples = test_data.shape[0]\n",
    "        predictions = np.array([])\n",
    "        for image in test_data:\n",
    "            prediction = self.predict(image)\n",
    "            predictions = np.append(predictions,prediction)\n",
    "        \n",
    "        correct = predictions[predictions == test_target]\n",
    "        accuracy = len(correct) / n_samples\n",
    "        return accuracy"
   ]
  },
  {
   "cell_type": "code",
   "execution_count": 22,
   "metadata": {
    "collapsed": false
   },
   "outputs": [
    {
     "name": "stdout",
     "output_type": "stream",
     "text": [
      "Creating KNN classifier object with k = 7 ...\n",
      "Fitting the model with 1200 training samples ...\n"
     ]
    }
   ],
   "source": [
    "clf = KNN(k=7)\n",
    "clf.fit(data_train,target_train)"
   ]
  },
  {
   "cell_type": "code",
   "execution_count": 23,
   "metadata": {
    "collapsed": false
   },
   "outputs": [
    {
     "data": {
      "image/png": "[encoded data removed]",
      "text/plain": [
       "<matplotlib.figure.Figure at 0x7f07d1fba710>"
      ]
     },
     "metadata": {},
     "output_type": "display_data"
    },
    {
     "name": "stdout",
     "output_type": "stream",
     "text": [
      "7 nearest neighbors are: [2 2 2 2 2 2 2]\n",
      "\n",
      "KNN predicts: 2\n",
      "\n",
      "Digit is: 2\n"
     ]
    }
   ],
   "source": [
    "i = np.random.randint(0,len(data_test)) # Choose a random index in the test data\n",
    "clf.predict(data_test[i,:],output=True)\n",
    "print('\\nDigit is:',target_test[i])"
   ]
  },
  {
   "cell_type": "code",
   "execution_count": 24,
   "metadata": {
    "collapsed": false
   },
   "outputs": [
    {
     "data": {
      "image/png": "[encoded data removed]",
      "text/plain": [
       "<matplotlib.figure.Figure at 0x7f07d204fba8>"
      ]
     },
     "metadata": {},
     "output_type": "display_data"
    },
    {
     "name": "stdout",
     "output_type": "stream",
     "text": [
      "20 nearest neighbors are: [8 8 8 3 8 8 8 8 8 8 8 8 8 8 8 8 8 8 8 8]\n",
      "\n",
      "KNN predicts: 8\n"
     ]
    },
    {
     "data": {
      "text/plain": [
       "8"
      ]
     },
     "execution_count": 24,
     "metadata": {},
     "output_type": "execute_result"
    }
   ],
   "source": [
    "v0 = [0,0,0,15,15,0,0,0]\n",
    "v1 = [0,0,15,0,0,15,0,0]\n",
    "v2 = [0,0,15,0,0,15,0,0]\n",
    "v3 = [0,0,0,15,15,0,0,0]\n",
    "v4 = [0,0,0,15,15,0,0,0]\n",
    "v5 = [0,0,15,0,0,15,0,0]\n",
    "v6 = [0,0,15,0,0,15,0,0]\n",
    "v7 = [0,0,0,15,15,0,0,0]\n",
    "\n",
    "clf.k = 20\n",
    "image = np.array([v0,v1,v2,v3,v4,v5,v6,v7]).reshape(64,)\n",
    "clf.predict(image,output=True)"
   ]
  },
  {
   "cell_type": "markdown",
   "metadata": {},
   "source": [
    "### Evaluating the model\n",
    "\n",
    "Recall that we split the dataset in two parts: a training set and a testing set. The idea is that we want to evaluate the accuracy of our model but **we can't test the model on the data we used to train the model** and so we use the testing set to evaluate the accuracy of the model."
   ]
  },
  {
   "cell_type": "code",
   "execution_count": 25,
   "metadata": {
    "collapsed": false
   },
   "outputs": [
    {
     "name": "stdout",
     "output_type": "stream",
     "text": [
      "Creating KNN classifier object with k = 7 ...\n",
      "Fitting the model with 1200 training samples ...\n"
     ]
    }
   ],
   "source": [
    "clf = KNN(k=7)\n",
    "clf.fit(data_train,target_train)"
   ]
  },
  {
   "cell_type": "code",
   "execution_count": 26,
   "metadata": {
    "collapsed": false
   },
   "outputs": [
    {
     "data": {
      "text/plain": [
       "0.9631490787269682"
      ]
     },
     "execution_count": 26,
     "metadata": {},
     "output_type": "execute_result"
    }
   ],
   "source": [
    "clf.score(data_test,target_test)"
   ]
  },
  {
   "cell_type": "code",
   "execution_count": 27,
   "metadata": {
    "collapsed": false
   },
   "outputs": [
    {
     "name": "stdout",
     "output_type": "stream",
     "text": [
      "Creating KNN classifier object with k = 1 ...\n",
      "Fitting the model with 1200 training samples ...\n",
      "For k = 1  accuracy is 0.964824120603015\n",
      "Creating KNN classifier object with k = 2 ...\n",
      "Fitting the model with 1200 training samples ...\n",
      "For k = 2  accuracy is 0.9681742043551089\n",
      "Creating KNN classifier object with k = 3 ...\n",
      "Fitting the model with 1200 training samples ...\n",
      "For k = 3  accuracy is 0.9698492462311558\n",
      "Creating KNN classifier object with k = 4 ...\n",
      "Fitting the model with 1200 training samples ...\n",
      "For k = 4  accuracy is 0.964824120603015\n",
      "Creating KNN classifier object with k = 5 ...\n",
      "Fitting the model with 1200 training samples ...\n",
      "For k = 5  accuracy is 0.964824120603015\n",
      "Creating KNN classifier object with k = 6 ...\n",
      "Fitting the model with 1200 training samples ...\n",
      "For k = 6  accuracy is 0.9614740368509213\n",
      "Creating KNN classifier object with k = 7 ...\n",
      "Fitting the model with 1200 training samples ...\n",
      "For k = 7  accuracy is 0.9631490787269682\n",
      "Creating KNN classifier object with k = 8 ...\n",
      "Fitting the model with 1200 training samples ...\n",
      "For k = 8  accuracy is 0.9597989949748744\n",
      "Creating KNN classifier object with k = 9 ...\n",
      "Fitting the model with 1200 training samples ...\n",
      "For k = 9  accuracy is 0.9614740368509213\n",
      "Creating KNN classifier object with k = 10 ...\n",
      "Fitting the model with 1200 training samples ...\n",
      "For k = 10  accuracy is 0.9581239530988275\n",
      "Creating KNN classifier object with k = 11 ...\n",
      "Fitting the model with 1200 training samples ...\n",
      "For k = 11  accuracy is 0.9547738693467337\n",
      "Creating KNN classifier object with k = 12 ...\n",
      "Fitting the model with 1200 training samples ...\n",
      "For k = 12  accuracy is 0.9530988274706867\n",
      "Creating KNN classifier object with k = 13 ...\n",
      "Fitting the model with 1200 training samples ...\n",
      "For k = 13  accuracy is 0.9530988274706867\n",
      "Creating KNN classifier object with k = 14 ...\n",
      "Fitting the model with 1200 training samples ...\n",
      "For k = 14  accuracy is 0.9530988274706867\n",
      "Creating KNN classifier object with k = 15 ...\n",
      "Fitting the model with 1200 training samples ...\n",
      "For k = 15  accuracy is 0.9547738693467337\n",
      "Creating KNN classifier object with k = 16 ...\n",
      "Fitting the model with 1200 training samples ...\n",
      "For k = 16  accuracy is 0.9514237855946399\n",
      "Creating KNN classifier object with k = 17 ...\n",
      "Fitting the model with 1200 training samples ...\n",
      "For k = 17  accuracy is 0.9514237855946399\n",
      "Creating KNN classifier object with k = 18 ...\n",
      "Fitting the model with 1200 training samples ...\n",
      "For k = 18  accuracy is 0.9547738693467337\n",
      "Creating KNN classifier object with k = 19 ...\n",
      "Fitting the model with 1200 training samples ...\n",
      "For k = 19  accuracy is 0.9547738693467337\n",
      "Creating KNN classifier object with k = 20 ...\n",
      "Fitting the model with 1200 training samples ...\n",
      "For k = 20  accuracy is 0.9530988274706867\n"
     ]
    }
   ],
   "source": [
    "for k in range(1,21):\n",
    "    clf = KNN(k=k);\n",
    "    clf.fit(data_train,target_train);\n",
    "    print('For k =',k,' accuracy is',clf.score(data_test,target_test))"
   ]
  },
  {
   "cell_type": "markdown",
   "metadata": {},
   "source": [
    "It seems that `k = 3` produces the best results with 96.48% accuracy:\n",
    "\n",
    "```\n",
    "Creating KNN classifier object with k = 3 ...\n",
    "Fitting the model with 1200 training samples ...\n",
    "For k = 3  accuracy is 0.9698492462311558\n",
    "```"
   ]
  },
  {
   "cell_type": "markdown",
   "metadata": {},
   "source": [
    "Let's use k = 3 on some digits created manually:"
   ]
  },
  {
   "cell_type": "code",
   "execution_count": 28,
   "metadata": {
    "collapsed": false
   },
   "outputs": [
    {
     "data": {
      "image/png": "[encoded data removed]",
      "text/plain": [
       "<matplotlib.figure.Figure at 0x7f07d1f6f358>"
      ]
     },
     "metadata": {},
     "output_type": "display_data"
    },
    {
     "name": "stdout",
     "output_type": "stream",
     "text": [
      "3 nearest neighbors are: [9 9 9]\n",
      "\n",
      "KNN predicts: 9\n"
     ]
    },
    {
     "data": {
      "text/plain": [
       "9"
      ]
     },
     "execution_count": 28,
     "metadata": {},
     "output_type": "execute_result"
    }
   ],
   "source": [
    "v0 = [0,0,15,15,15,15,0,0]\n",
    "v1 = [0,0,15,0,0,15,0,0]\n",
    "v2 = [0,0,15,0,0,15,0,0]\n",
    "v3 = [0,0,15,15,15,15,0,0]\n",
    "v4 = [0,0,0,0,0,15,0,0]\n",
    "v5 = [0,0,0,0,0,15,0,0]\n",
    "v6 = [0,0,15,0,0,15,0,0]\n",
    "v7 = [0,0,15,15,15,15,0,0]\n",
    "\n",
    "clf.k = 3\n",
    "image = np.array([v0,v1,v2,v3,v4,v5,v6,v7]).reshape(64,)\n",
    "clf.predict(image,output=True)"
   ]
  },
  {
   "cell_type": "markdown",
   "metadata": {},
   "source": [
    "### Implementing `sklearn.neighbors.KNeighborsClassifier`\n",
    "\n",
    "See the [documentation](http://scikit-learn.org/stable/modules/generated/sklearn.neighbors.KNeighborsClassifier.html) for a description of the *k*-nearest neighbors class and its attributes and methods."
   ]
  },
  {
   "cell_type": "code",
   "execution_count": 29,
   "metadata": {
    "collapsed": true
   },
   "outputs": [],
   "source": [
    "from sklearn.neighbors import KNeighborsClassifier as KNC"
   ]
  },
  {
   "cell_type": "code",
   "execution_count": 30,
   "metadata": {
    "collapsed": false
   },
   "outputs": [],
   "source": [
    "clf = KNC(n_neighbors=3)"
   ]
  },
  {
   "cell_type": "code",
   "execution_count": 31,
   "metadata": {
    "collapsed": false
   },
   "outputs": [
    {
     "data": {
      "text/plain": [
       "KNeighborsClassifier(algorithm='auto', leaf_size=30, metric='minkowski',\n",
       "           metric_params=None, n_jobs=1, n_neighbors=3, p=2,\n",
       "           weights='uniform')"
      ]
     },
     "execution_count": 31,
     "metadata": {},
     "output_type": "execute_result"
    }
   ],
   "source": [
    "clf.fit(data_train,target_train)"
   ]
  },
  {
   "cell_type": "code",
   "execution_count": 32,
   "metadata": {
    "collapsed": false
   },
   "outputs": [
    {
     "data": {
      "image/png": "[encoded data removed]",
      "text/plain": [
       "<matplotlib.figure.Figure at 0x7f07d007a6d8>"
      ]
     },
     "metadata": {},
     "output_type": "display_data"
    },
    {
     "name": "stdout",
     "output_type": "stream",
     "text": [
      "Classifier predicts: 1\n",
      "Digit is: 1\n"
     ]
    }
   ],
   "source": [
    "i = np.random.randint(0,len(data_test)) # Choose a random index in the test data\n",
    "plt.imshow(data_test[i].reshape(8,8),cmap='binary')\n",
    "plt.show()\n",
    "prediction = clf.predict(data_test[i].reshape(1,64)) # All sklearn models expect a 2D array input to the predict method\n",
    "print('Classifier predicts:',prediction[0])\n",
    "print('Digit is:',target_test[i])"
   ]
  },
  {
   "cell_type": "code",
   "execution_count": 33,
   "metadata": {
    "collapsed": false
   },
   "outputs": [
    {
     "data": {
      "text/plain": [
       "0.96984924623115576"
      ]
     },
     "execution_count": 33,
     "metadata": {},
     "output_type": "execute_result"
    }
   ],
   "source": [
    "clf.score(data_test,target_test)"
   ]
  }
 ],
 "metadata": {
  "kernelspec": {
   "display_name": "Python 3",
   "language": "python",
   "name": "python3"
  },
  "language_info": {
   "codemirror_mode": {
    "name": "ipython",
    "version": 3
   },
   "file_extension": ".py",
   "mimetype": "text/x-python",
   "name": "python",
   "nbconvert_exporter": "python",
   "pygments_lexer": "ipython3",
   "version": "3.5.2"
  }
 },
 "nbformat": 4,
 "nbformat_minor": 0
}
