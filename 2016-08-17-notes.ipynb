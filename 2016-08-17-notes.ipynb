{
 "cells": [
  {
   "cell_type": "markdown",
   "metadata": {},
   "source": [
    "# UBC Scientific Software Seminar\n",
    "\n",
    "##  August 17, 2016\n",
    "\n",
    "Today's Agenda:\n",
    "\n",
    "1. SciPy Example: Fitting Wind Speed Distributions to the Weibull Distribution\n",
    "2. A tour of scikit-learn (by examples)"
   ]
  },
  {
   "cell_type": "code",
   "execution_count": 1,
   "metadata": {
    "collapsed": true
   },
   "outputs": [],
   "source": [
    "import numpy as np\n",
    "import matplotlib.pyplot as plt\n",
    "import pandas as pd\n",
    "%matplotlib inline"
   ]
  },
  {
   "cell_type": "markdown",
   "metadata": {},
   "source": [
    "### 1. SciPy Example: Fitting Wind Speed Distributions to the Weibull Distribution\n",
    "\n",
    "It is well-known in the [wind energy industry](http://wind-data.ch/tools/weibull.php?lng=en) that wind speed distributions (measured in m/s) are modelled by the [Weibull distribution](https://en.wikipedia.org/wiki/Weibull_distribution):\n",
    "\n",
    "![weibull](https://wikimedia.org/api/rest_v1/media/math/render/svg/847f7f8870ffa9eabda2b09dc503ff4cb7753695)\n",
    "\n",
    "where, in the case of wind speed, the independent variable $x$ is wind speed measured in m/s, the coefficient $\\lambda$ is approximately equal to the average wind speed and $k$ is usually in the range [1,2].\n",
    "\n",
    "Let's plot the wind speed distribution at the Vancouver Airport using pandas and matplotlib, and fit the distribution to the Weibull distribution using SciPy."
   ]
  },
  {
   "cell_type": "markdown",
   "metadata": {},
   "source": [
    "#### Plot the wind speed distribution"
   ]
  },
  {
   "cell_type": "code",
   "execution_count": 2,
   "metadata": {
    "collapsed": true
   },
   "outputs": [],
   "source": [
    "wind = pd.read_csv(\"2016-08-10-notes/wind.csv\")"
   ]
  },
  {
   "cell_type": "code",
   "execution_count": 3,
   "metadata": {
    "collapsed": false
   },
   "outputs": [
    {
     "data": {
      "text/html": [
       "<div>\n",
       "<table border=\"1\" class=\"dataframe\">\n",
       "  <thead>\n",
       "    <tr style=\"text-align: right;\">\n",
       "      <th></th>\n",
       "      <th>Year</th>\n",
       "      <th>Month</th>\n",
       "      <th>Day</th>\n",
       "      <th>Hour</th>\n",
       "      <th>Pressure</th>\n",
       "      <th>Wind Direction</th>\n",
       "      <th>Wind Speed</th>\n",
       "      <th>Temperature</th>\n",
       "    </tr>\n",
       "  </thead>\n",
       "  <tbody>\n",
       "    <tr>\n",
       "      <th>0</th>\n",
       "      <td>2010</td>\n",
       "      <td>1</td>\n",
       "      <td>1</td>\n",
       "      <td>0</td>\n",
       "      <td>100.87</td>\n",
       "      <td>E</td>\n",
       "      <td>22.0</td>\n",
       "      <td>5.5</td>\n",
       "    </tr>\n",
       "    <tr>\n",
       "      <th>1</th>\n",
       "      <td>2010</td>\n",
       "      <td>1</td>\n",
       "      <td>1</td>\n",
       "      <td>1</td>\n",
       "      <td>100.81</td>\n",
       "      <td>E</td>\n",
       "      <td>19.0</td>\n",
       "      <td>5.4</td>\n",
       "    </tr>\n",
       "    <tr>\n",
       "      <th>2</th>\n",
       "      <td>2010</td>\n",
       "      <td>1</td>\n",
       "      <td>1</td>\n",
       "      <td>2</td>\n",
       "      <td>100.77</td>\n",
       "      <td>E</td>\n",
       "      <td>26.0</td>\n",
       "      <td>5.7</td>\n",
       "    </tr>\n",
       "    <tr>\n",
       "      <th>3</th>\n",
       "      <td>2010</td>\n",
       "      <td>1</td>\n",
       "      <td>1</td>\n",
       "      <td>3</td>\n",
       "      <td>100.69</td>\n",
       "      <td>ESE</td>\n",
       "      <td>26.0</td>\n",
       "      <td>5.5</td>\n",
       "    </tr>\n",
       "    <tr>\n",
       "      <th>4</th>\n",
       "      <td>2010</td>\n",
       "      <td>1</td>\n",
       "      <td>1</td>\n",
       "      <td>4</td>\n",
       "      <td>100.58</td>\n",
       "      <td>ESE</td>\n",
       "      <td>26.0</td>\n",
       "      <td>5.8</td>\n",
       "    </tr>\n",
       "  </tbody>\n",
       "</table>\n",
       "</div>"
      ],
      "text/plain": [
       "   Year  Month  Day  Hour  Pressure Wind Direction  Wind Speed  Temperature\n",
       "0  2010      1    1     0    100.87              E        22.0          5.5\n",
       "1  2010      1    1     1    100.81              E        19.0          5.4\n",
       "2  2010      1    1     2    100.77              E        26.0          5.7\n",
       "3  2010      1    1     3    100.69            ESE        26.0          5.5\n",
       "4  2010      1    1     4    100.58            ESE        26.0          5.8"
      ]
     },
     "execution_count": 3,
     "metadata": {},
     "output_type": "execute_result"
    }
   ],
   "source": [
    "wind.head()"
   ]
  },
  {
   "cell_type": "code",
   "execution_count": 4,
   "metadata": {
    "collapsed": false
   },
   "outputs": [
    {
     "data": {
      "text/html": [
       "<div>\n",
       "<table border=\"1\" class=\"dataframe\">\n",
       "  <thead>\n",
       "    <tr style=\"text-align: right;\">\n",
       "      <th></th>\n",
       "      <th>Year</th>\n",
       "      <th>Month</th>\n",
       "      <th>Day</th>\n",
       "      <th>Hour</th>\n",
       "      <th>Pressure</th>\n",
       "      <th>Wind Direction</th>\n",
       "      <th>Wind Speed</th>\n",
       "      <th>Temperature</th>\n",
       "    </tr>\n",
       "  </thead>\n",
       "  <tbody>\n",
       "    <tr>\n",
       "      <th>54774</th>\n",
       "      <td>2016</td>\n",
       "      <td>4</td>\n",
       "      <td>1</td>\n",
       "      <td>7</td>\n",
       "      <td>102.15</td>\n",
       "      <td>ENE</td>\n",
       "      <td>4.0</td>\n",
       "      <td>8.7</td>\n",
       "    </tr>\n",
       "    <tr>\n",
       "      <th>54775</th>\n",
       "      <td>2016</td>\n",
       "      <td>4</td>\n",
       "      <td>1</td>\n",
       "      <td>8</td>\n",
       "      <td>102.15</td>\n",
       "      <td>ESE</td>\n",
       "      <td>17.0</td>\n",
       "      <td>10.1</td>\n",
       "    </tr>\n",
       "    <tr>\n",
       "      <th>54776</th>\n",
       "      <td>2016</td>\n",
       "      <td>4</td>\n",
       "      <td>1</td>\n",
       "      <td>9</td>\n",
       "      <td>102.15</td>\n",
       "      <td>ESE</td>\n",
       "      <td>11.0</td>\n",
       "      <td>11.7</td>\n",
       "    </tr>\n",
       "    <tr>\n",
       "      <th>54777</th>\n",
       "      <td>2016</td>\n",
       "      <td>4</td>\n",
       "      <td>1</td>\n",
       "      <td>10</td>\n",
       "      <td>102.15</td>\n",
       "      <td>SE</td>\n",
       "      <td>10.0</td>\n",
       "      <td>13.5</td>\n",
       "    </tr>\n",
       "    <tr>\n",
       "      <th>54778</th>\n",
       "      <td>2016</td>\n",
       "      <td>4</td>\n",
       "      <td>1</td>\n",
       "      <td>11</td>\n",
       "      <td>102.15</td>\n",
       "      <td>SSW</td>\n",
       "      <td>13.0</td>\n",
       "      <td>13.4</td>\n",
       "    </tr>\n",
       "  </tbody>\n",
       "</table>\n",
       "</div>"
      ],
      "text/plain": [
       "       Year  Month  Day  Hour  Pressure Wind Direction  Wind Speed  \\\n",
       "54774  2016      4    1     7    102.15            ENE         4.0   \n",
       "54775  2016      4    1     8    102.15            ESE        17.0   \n",
       "54776  2016      4    1     9    102.15            ESE        11.0   \n",
       "54777  2016      4    1    10    102.15             SE        10.0   \n",
       "54778  2016      4    1    11    102.15            SSW        13.0   \n",
       "\n",
       "       Temperature  \n",
       "54774          8.7  \n",
       "54775         10.1  \n",
       "54776         11.7  \n",
       "54777         13.5  \n",
       "54778         13.4  "
      ]
     },
     "execution_count": 4,
     "metadata": {},
     "output_type": "execute_result"
    }
   ],
   "source": [
    "wind.tail()"
   ]
  },
  {
   "cell_type": "code",
   "execution_count": 5,
   "metadata": {
    "collapsed": false
   },
   "outputs": [
    {
     "name": "stdout",
     "output_type": "stream",
     "text": [
      "<class 'pandas.core.frame.DataFrame'>\n",
      "RangeIndex: 54779 entries, 0 to 54778\n",
      "Data columns (total 8 columns):\n",
      "Year              54779 non-null int64\n",
      "Month             54779 non-null int64\n",
      "Day               54779 non-null int64\n",
      "Hour              54779 non-null int64\n",
      "Pressure          54776 non-null float64\n",
      "Wind Direction    53180 non-null object\n",
      "Wind Speed        54777 non-null float64\n",
      "Temperature       54777 non-null float64\n",
      "dtypes: float64(3), int64(4), object(1)\n",
      "memory usage: 3.3+ MB\n"
     ]
    }
   ],
   "source": [
    "wind.info()"
   ]
  },
  {
   "cell_type": "markdown",
   "metadata": {},
   "source": [
    "Since we're only interested in wind speed, we can select the \"Wind Speed\" column:"
   ]
  },
  {
   "cell_type": "code",
   "execution_count": 6,
   "metadata": {
    "collapsed": false
   },
   "outputs": [
    {
     "data": {
      "text/plain": [
       "0    22.0\n",
       "1    19.0\n",
       "2    26.0\n",
       "3    26.0\n",
       "4    26.0\n",
       "Name: Wind Speed, dtype: float64"
      ]
     },
     "execution_count": 6,
     "metadata": {},
     "output_type": "execute_result"
    }
   ],
   "source": [
    "wind_speed = wind[\"Wind Speed\"]\n",
    "wind_speed.head()"
   ]
  },
  {
   "cell_type": "markdown",
   "metadata": {},
   "source": [
    "Notice that wind speed is measured in km/h in this dataset. Let's check to see if there are any missing values:"
   ]
  },
  {
   "cell_type": "code",
   "execution_count": 7,
   "metadata": {
    "collapsed": false
   },
   "outputs": [
    {
     "data": {
      "text/plain": [
       "6166   NaN\n",
       "6361   NaN\n",
       "Name: Wind Speed, dtype: float64"
      ]
     },
     "execution_count": 7,
     "metadata": {},
     "output_type": "execute_result"
    }
   ],
   "source": [
    "wind_speed[wind_speed.isnull()]"
   ]
  },
  {
   "cell_type": "markdown",
   "metadata": {},
   "source": [
    "There are only 2 missing values and we can fill them in with the values from the previous measurement using the [fillna](http://pandas.pydata.org/pandas-docs/stable/generated/pandas.DataFrame.fillna.html) DataFrame method:"
   ]
  },
  {
   "cell_type": "code",
   "execution_count": 8,
   "metadata": {
    "collapsed": false
   },
   "outputs": [],
   "source": [
    "wind_speed = wind_speed.fillna(method='ffill')"
   ]
  },
  {
   "cell_type": "markdown",
   "metadata": {},
   "source": [
    "To plot the wind speed distribution, we can plot a [histogram](http://matplotlib.org/api/pyplot_api.html#matplotlib.pyplot.hist) of wind speeds with bins of size 4 km/h up to the maximum wind speed:"
   ]
  },
  {
   "cell_type": "code",
   "execution_count": 9,
   "metadata": {
    "collapsed": false
   },
   "outputs": [
    {
     "data": {
      "text/plain": [
       "78.0"
      ]
     },
     "execution_count": 9,
     "metadata": {},
     "output_type": "execute_result"
    }
   ],
   "source": [
    "wind_speed.max()"
   ]
  },
  {
   "cell_type": "code",
   "execution_count": 10,
   "metadata": {
    "collapsed": false
   },
   "outputs": [
    {
     "data": {
      "image/png": "[encoded data removed]",
      "text/plain": [
       "<matplotlib.figure.Figure at 0x7f3d18f0be48>"
      ]
     },
     "metadata": {},
     "output_type": "display_data"
    }
   ],
   "source": [
    "data, bins, _ = plt.hist(wind_speed,bins=np.arange(0,82,4),normed=True)"
   ]
  },
  {
   "cell_type": "markdown",
   "metadata": {},
   "source": [
    "The output of the matplotlib.pyplot function [hist](http://matplotlib.org/api/pyplot_api.html#matplotlib.pyplot.hist) is a tuple with three entries: the frequency for each bin, the edges of each bin, and (silent) list of patches (which we don't need). We've unpacked these into variables `data` and `bins` (and forgotten the patches `_`). Notice that we used the keyword argument `normed=True` to get the frequency as a fraction instead of a hard count of the wind speed data."
   ]
  },
  {
   "cell_type": "code",
   "execution_count": 11,
   "metadata": {
    "collapsed": false
   },
   "outputs": [
    {
     "data": {
      "text/plain": [
       "array([  1.87298052e-02,   4.87093594e-02,   5.19724712e-02,\n",
       "         4.90790266e-02,   3.48217383e-02,   2.00852516e-02,\n",
       "         1.11447818e-02,   7.01911316e-03,   4.44969788e-03,\n",
       "         1.75249639e-03,   9.03630953e-04,   5.79601672e-04,\n",
       "         3.14901696e-04,   2.41881013e-04,   1.09531025e-04,\n",
       "         4.56379269e-05,   2.73827562e-05,   9.12758539e-06,\n",
       "         0.00000000e+00,   4.56379269e-06])"
      ]
     },
     "execution_count": 11,
     "metadata": {},
     "output_type": "execute_result"
    }
   ],
   "source": [
    "data"
   ]
  },
  {
   "cell_type": "code",
   "execution_count": 12,
   "metadata": {
    "collapsed": false
   },
   "outputs": [
    {
     "data": {
      "text/plain": [
       "array([ 0,  4,  8, 12, 16, 20, 24, 28, 32, 36, 40, 44, 48, 52, 56, 60, 64,\n",
       "       68, 72, 76, 80])"
      ]
     },
     "execution_count": 12,
     "metadata": {},
     "output_type": "execute_result"
    }
   ],
   "source": [
    "bins"
   ]
  },
  {
   "cell_type": "markdown",
   "metadata": {},
   "source": [
    "#### Fit the wind speed distribution to the Weibull distribution\n",
    "\n",
    "The data that we want to fit is given by the NumPy array `data` however we want to prepend a data point to the array to represent 0 frequency at wind speed 0."
   ]
  },
  {
   "cell_type": "code",
   "execution_count": 13,
   "metadata": {
    "collapsed": false
   },
   "outputs": [
    {
     "name": "stdout",
     "output_type": "stream",
     "text": [
      "[  0.00000000e+00   1.87298052e-02   4.87093594e-02   5.19724712e-02\n",
      "   4.90790266e-02   3.48217383e-02   2.00852516e-02   1.11447818e-02\n",
      "   7.01911316e-03   4.44969788e-03   1.75249639e-03   9.03630953e-04\n",
      "   5.79601672e-04   3.14901696e-04   2.41881013e-04   1.09531025e-04\n",
      "   4.56379269e-05   2.73827562e-05   9.12758539e-06   0.00000000e+00\n",
      "   4.56379269e-06]\n"
     ]
    }
   ],
   "source": [
    "Y = np.append(0,data)\n",
    "print(Y)"
   ]
  },
  {
   "cell_type": "markdown",
   "metadata": {},
   "source": [
    "We want the corresponding wind speed values to be the midpoint of each bin and 0 as the first value:"
   ]
  },
  {
   "cell_type": "code",
   "execution_count": 14,
   "metadata": {
    "collapsed": false
   },
   "outputs": [
    {
     "name": "stdout",
     "output_type": "stream",
     "text": [
      "[ 0  2  6 10 14 18 22 26 30 34 38 42 46 50 54 58 62 66 70 74 78]\n"
     ]
    }
   ],
   "source": [
    "X = np.append(0,bins[1:] - 2)\n",
    "print(X)"
   ]
  },
  {
   "cell_type": "code",
   "execution_count": 15,
   "metadata": {
    "collapsed": false
   },
   "outputs": [
    {
     "data": {
      "text/plain": [
       "<matplotlib.text.Text at 0x7f3d184bdba8>"
      ]
     },
     "execution_count": 15,
     "metadata": {},
     "output_type": "execute_result"
    },
    {
     "data": {
      "image/png": "[encoded data removed]",
      "text/plain": [
       "<matplotlib.figure.Figure at 0x7f3d180e6f28>"
      ]
     },
     "metadata": {},
     "output_type": "display_data"
    }
   ],
   "source": [
    "plt.plot(X,Y,'bo')\n",
    "plt.title('Wind Speed Distribution (km/h)')"
   ]
  },
  {
   "cell_type": "markdown",
   "metadata": {},
   "source": [
    "SciPy has a subpackage called [scipy.optimize](http://docs.scipy.org/doc/scipy/reference/optimize.html) which contains many methods for optimization and root finding. We will use the [curve_fit](http://docs.scipy.org/doc/scipy/reference/generated/scipy.optimize.curve_fit.html#scipy.optimize.curve_fit) method to fit the wind speed distribution to the Weibull distribution and so let's import the method:"
   ]
  },
  {
   "cell_type": "code",
   "execution_count": 16,
   "metadata": {
    "collapsed": true
   },
   "outputs": [],
   "source": [
    "from scipy.optimize import curve_fit"
   ]
  },
  {
   "cell_type": "markdown",
   "metadata": {},
   "source": [
    "We can display the documentation for `curve_fit` in the notebook using `?`:"
   ]
  },
  {
   "cell_type": "code",
   "execution_count": 17,
   "metadata": {
    "collapsed": true
   },
   "outputs": [],
   "source": [
    "curve_fit?"
   ]
  },
  {
   "cell_type": "markdown",
   "metadata": {},
   "source": [
    "We have the arrays `X` and `Y` for the fit and so we just need to define a function for the Weibull distribution. Notice that the first variable is the independent variable $x$ and the following parameters are the coefficients in the Weibull distribution:"
   ]
  },
  {
   "cell_type": "code",
   "execution_count": 18,
   "metadata": {
    "collapsed": true
   },
   "outputs": [],
   "source": [
    "def f(x,k,ell):\n",
    "    '''Weibull distribution with parameters k and ell'''\n",
    "    return np.where(x < 0, 0., (k/ell)*(x/ell)**(k-1) * np.exp(-(x/ell)**k))"
   ]
  },
  {
   "cell_type": "markdown",
   "metadata": {},
   "source": [
    "We've used the NumPy function [numpy.where](http://docs.scipy.org/doc/numpy/reference/generated/numpy.where.html) to define a step function. Let's plot our function to make sure it corresponds with the [definition](https://en.wikipedia.org/wiki/Weibull_distribution):"
   ]
  },
  {
   "cell_type": "code",
   "execution_count": 19,
   "metadata": {
    "collapsed": false
   },
   "outputs": [
    {
     "data": {
      "text/plain": [
       "<matplotlib.legend.Legend at 0x7f3d1811eb70>"
      ]
     },
     "execution_count": 19,
     "metadata": {},
     "output_type": "execute_result"
    },
    {
     "data": {
      "image/png": "[encoded data removed]",
      "text/plain": [
       "<matplotlib.figure.Figure at 0x7f3d1811eba8>"
      ]
     },
     "metadata": {},
     "output_type": "display_data"
    }
   ],
   "source": [
    "plt.figure(figsize=(8,5))\n",
    "x = np.linspace(-2,10,1000)\n",
    "labels = []\n",
    "for k,ell in [(1.2,1),(1.4,2),(1.2,5),(1.4,5)]:\n",
    "    y = f(x,k,ell)\n",
    "    plt.plot(x,y)\n",
    "    labels.append('$k = {0}$, $\\lambda = {1}$'.format(k,ell))\n",
    "\n",
    "plt.title('Weibull Distribution')\n",
    "plt.ylim([-0.2,0.8])\n",
    "plt.legend(labels)"
   ]
  },
  {
   "cell_type": "markdown",
   "metadata": {},
   "source": [
    "Finally, we are ready to fit the data. According to [industry standards](http://wind-data.ch/tools/weibull.php?lng=en) we know the parameter $k$ should be between 1 and 2 and $\\lambda$ should be around the mean wind speed (~15 km/h in our case) therefore we can specify an intial guess for the curve fitting algorithm:"
   ]
  },
  {
   "cell_type": "code",
   "execution_count": 20,
   "metadata": {
    "collapsed": false
   },
   "outputs": [],
   "source": [
    "params, _ = curve_fit(f,X,Y,p0=(1.5,15))"
   ]
  },
  {
   "cell_type": "code",
   "execution_count": 21,
   "metadata": {
    "collapsed": false
   },
   "outputs": [
    {
     "data": {
      "text/plain": [
       "array([  1.85706203,  15.02485969])"
      ]
     },
     "execution_count": 21,
     "metadata": {},
     "output_type": "execute_result"
    }
   ],
   "source": [
    "params"
   ]
  },
  {
   "cell_type": "code",
   "execution_count": 22,
   "metadata": {
    "collapsed": false
   },
   "outputs": [
    {
     "data": {
      "text/plain": [
       "<matplotlib.text.Text at 0x7f3d184fc048>"
      ]
     },
     "execution_count": 22,
     "metadata": {},
     "output_type": "execute_result"
    },
    {
     "data": {
      "image/png": "[encoded data removed]",
      "text/plain": [
       "<matplotlib.figure.Figure at 0x7f3d17eb7ba8>"
      ]
     },
     "metadata": {},
     "output_type": "display_data"
    }
   ],
   "source": [
    "x = np.linspace(0,80,1000)\n",
    "y = f(x,params[0],params[1])\n",
    "plt.plot(x,y)\n",
    "plt.plot(X,Y,'r.')\n",
    "plt.title('Wind Speed Distribution (km/h)')"
   ]
  },
  {
   "cell_type": "markdown",
   "metadata": {},
   "source": [
    "**EXERCISE**\n",
    "\n",
    "Plot the squared error\n",
    "\n",
    "$$\n",
    "\\sum_{i=0}^{N} \\left( y_i - f(x_i,k,\\lambda) \\right)^2\n",
    "$$\n",
    "\n",
    "for a grid of values for $k$ and $\\lambda$."
   ]
  },
  {
   "cell_type": "code",
   "execution_count": 23,
   "metadata": {
    "collapsed": false
   },
   "outputs": [
    {
     "data": {
      "text/plain": [
       "<matplotlib.image.AxesImage at 0x7f3d17dd7470>"
      ]
     },
     "execution_count": 23,
     "metadata": {},
     "output_type": "execute_result"
    },
    {
     "data": {
      "image/png": "[encoded data removed]",
      "text/plain": [
       "<matplotlib.figure.Figure at 0x7f3d180f22e8>"
      ]
     },
     "metadata": {},
     "output_type": "display_data"
    }
   ],
   "source": [
    "k1, k2 = (1.8,1.9)\n",
    "A1, A2 = (14,16)\n",
    "kvalues = np.linspace(k1,k2,1000)\n",
    "Avalues = np.linspace(A1,A2,1000)\n",
    "kvalues, Avalues = np.meshgrid(kvalues,Avalues)\n",
    "ERR = np.sum([(f(X[i],kvalues,Avalues) - Y[i])**2 for i in range(0,len(X))],axis=0)\n",
    "ERR = ERR / ERR.max()\n",
    "plt.imshow(ERR,extent=[k1,k2,A1,A2],aspect='auto')"
   ]
  },
  {
   "cell_type": "markdown",
   "metadata": {
    "collapsed": true
   },
   "source": [
    "### 2. A tour of scikit-learn\n",
    "\n",
    "[Machine learning](https://en.wikipedia.org/wiki/Machine_learning) is a *very large* field study and so we won't (and can't) go through everything. Instead, we'll start off with examples notebooks written in-part by [Gael Varoquaux](https://github.com/GaelVaroquaux) for various introductory courses taught at SciPy conferences in the past few years.\n",
    "\n",
    "Before getting into these example notebooks\n",
    ", take a look at the [scikit-learn](http://scikit-learn.org/) documentation and especially the [tutorial](http://scikit-learn.org/stable/tutorial/basic/tutorial.html).\n",
    "\n",
    "To get started, clone the [GitHub repo](https://github.com/GaelVaroquaux/sklearn_ensae_course):"
   ]
  },
  {
   "cell_type": "code",
   "execution_count": 24,
   "metadata": {
    "collapsed": false
   },
   "outputs": [
    {
     "name": "stdout",
     "output_type": "stream",
     "text": [
      "Cloning into 'sklearn_ensae_course'...\n",
      "remote: Counting objects: 903, done.\u001b[K\n",
      "remote: Compressing objects: 100% (311/311), done.\u001b[K\n",
      "remote: Total 903 (delta 588), reused 903 (delta 588), pack-reused 0\u001b[K\n",
      "Receiving objects: 100% (903/903), 16.50 MiB | 4.56 MiB/s, done.\n",
      "Resolving deltas: 100% (588/588), done.\n",
      "Checking connectivity... done.\n"
     ]
    }
   ],
   "source": [
    "! git clone https://github.com/GaelVaroquaux/sklearn_ensae_course.git"
   ]
  },
  {
   "cell_type": "markdown",
   "metadata": {
    "collapsed": true
   },
   "source": [
    "1. In the Jupyter main page, navigate to the directory `sklearn_ensae_course` that was cloned above.\n",
    "2. Go to the directory `notebooks` and start with `00_introduction_machine_learning_and_data.ipynb`\n",
    "    * You may get an error about the version of the Jupyter notebook -- click OK\n",
    "    * Follow the notebook and execute each cell as you go\n",
    "    * In the second code cell, you'll get an error: `No module named 'urllib2'` and the error message points to an import in the file `sklearn_ensae_course/notebooks/figures/sdss_filters.py`\n",
    "        * Open the file `sklearn_ensae_course/notebooks/figures/sdss_filters.py` and replace `urllib2` with `requests` on lines 9, 30, and 47. (`requests` is the new HTTP package for Python 3.)\n",
    "    * The second cell should work but now we get several warnings: `DeprecationWarning: Passing 1d arrays as data ...`\n",
    "        * Open the file `sklearn_ensae_course/notebooks/figures/sgd_separator.py` and edit line 25:\n",
    "```python\n",
    "p = clf.decision_function(np.array([x1, x2]).reshape(1,2))\n",
    "```\n",
    "        * We need to restart the kernel since we changed something that was already imported into the notebook\n",
    "        * After restarting the kernel (and re-executing the first cell), the notebook should run smoothly ...\n",
    "    * Be sure to change the values of `x_index` and `y_index` in the last cell to plot the different features of the dataset\n",
    "3. Go to the directory `notebooks` and open `03_supervised_classification.ipynb`\n",
    "    * Follow the notebook and execute each cell as you"
   ]
  }
 ],
 "metadata": {
  "kernelspec": {
   "display_name": "Python 3",
   "language": "python",
   "name": "python3"
  },
  "language_info": {
   "codemirror_mode": {
    "name": "ipython",
    "version": 3
   },
   "file_extension": ".py",
   "mimetype": "text/x-python",
   "name": "python",
   "nbconvert_exporter": "python",
   "pygments_lexer": "ipython3",
   "version": "3.5.1"
  }
 },
 "nbformat": 4,
 "nbformat_minor": 0
}
